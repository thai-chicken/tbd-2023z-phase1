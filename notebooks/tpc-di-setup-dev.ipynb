{
 "cells": [
  {
   "cell_type": "code",
   "execution_count": 32,
   "id": "90a0ed7a-a23a-4523-9171-f1d076700168",
   "metadata": {
    "pycharm": {
     "is_executing": true
    }
   },
   "outputs": [
    {
     "name": "stdout",
     "output_type": "stream",
     "text": [
      "env: DATA_BUCKET=tbd-2023z-304098-data\n",
      "env: GEN_OUTPUT_DIR=/tmp/tpc-di\n",
      "env: REPO_ROOT=/home/jupyter/git/tbd-tpc-di/\n"
     ]
    }
   ],
   "source": [
    "%env DATA_BUCKET=tbd-2023z-304098-data\n",
    "%env GEN_OUTPUT_DIR=/tmp/tpc-di\n",
    "%env REPO_ROOT=/home/jupyter/git/tbd-tpc-di/"
   ]
  },
  {
   "cell_type": "code",
   "execution_count": 33,
   "id": "a0fbec0d-d410-4de9-8dfd-00b07fdb7b89",
   "metadata": {},
   "outputs": [
    {
     "name": "stdout",
     "output_type": "stream",
     "text": [
      "Requirement already satisfied: typer==0.9.0 in /usr/local/lib/python3.8/dist-packages (from typer[All]==0.9.0) (0.9.0)\n",
      "Requirement already satisfied: google-cloud-storage==2.13.0 in /usr/local/lib/python3.8/dist-packages (2.13.0)\n",
      "Requirement already satisfied: click<9.0.0,>=7.1.1 in /usr/local/lib/python3.8/dist-packages (from typer==0.9.0->typer[All]==0.9.0) (8.1.7)\n",
      "Requirement already satisfied: typing-extensions>=3.7.4.3 in /usr/local/lib/python3.8/dist-packages (from typer==0.9.0->typer[All]==0.9.0) (4.9.0)\n",
      "Requirement already satisfied: google-auth<3.0dev,>=2.23.3 in /usr/local/lib/python3.8/dist-packages (from google-cloud-storage==2.13.0) (2.26.1)\n",
      "Requirement already satisfied: google-api-core!=2.0.*,!=2.1.*,!=2.2.*,!=2.3.0,<3.0.0dev,>=1.31.5 in /usr/local/lib/python3.8/dist-packages (from google-cloud-storage==2.13.0) (2.15.0)\n",
      "Requirement already satisfied: google-cloud-core<3.0dev,>=2.3.0 in /usr/local/lib/python3.8/dist-packages (from google-cloud-storage==2.13.0) (2.4.1)\n",
      "Requirement already satisfied: google-resumable-media>=2.6.0 in /usr/local/lib/python3.8/dist-packages (from google-cloud-storage==2.13.0) (2.7.0)\n",
      "Requirement already satisfied: requests<3.0.0dev,>=2.18.0 in /usr/local/lib/python3.8/dist-packages (from google-cloud-storage==2.13.0) (2.31.0)\n",
      "Requirement already satisfied: google-crc32c<2.0dev,>=1.0 in /usr/local/lib/python3.8/dist-packages (from google-cloud-storage==2.13.0) (1.5.0)\n",
      "Requirement already satisfied: colorama<0.5.0,>=0.4.3 in /usr/local/lib/python3.8/dist-packages (from typer[All]==0.9.0) (0.4.6)\n",
      "Requirement already satisfied: shellingham<2.0.0,>=1.3.0 in /usr/local/lib/python3.8/dist-packages (from typer[All]==0.9.0) (1.5.4)\n",
      "Requirement already satisfied: rich<14.0.0,>=10.11.0 in /usr/local/lib/python3.8/dist-packages (from typer[All]==0.9.0) (13.7.0)\n",
      "Requirement already satisfied: googleapis-common-protos<2.0.dev0,>=1.56.2 in /usr/local/lib/python3.8/dist-packages (from google-api-core!=2.0.*,!=2.1.*,!=2.2.*,!=2.3.0,<3.0.0dev,>=1.31.5->google-cloud-storage==2.13.0) (1.62.0)\n",
      "Requirement already satisfied: protobuf!=3.20.0,!=3.20.1,!=4.21.0,!=4.21.1,!=4.21.2,!=4.21.3,!=4.21.4,!=4.21.5,<5.0.0.dev0,>=3.19.5 in /usr/local/lib/python3.8/dist-packages (from google-api-core!=2.0.*,!=2.1.*,!=2.2.*,!=2.3.0,<3.0.0dev,>=1.31.5->google-cloud-storage==2.13.0) (4.25.1)\n",
      "Requirement already satisfied: cachetools<6.0,>=2.0.0 in /usr/local/lib/python3.8/dist-packages (from google-auth<3.0dev,>=2.23.3->google-cloud-storage==2.13.0) (5.3.2)\n",
      "Requirement already satisfied: pyasn1-modules>=0.2.1 in /usr/local/lib/python3.8/dist-packages (from google-auth<3.0dev,>=2.23.3->google-cloud-storage==2.13.0) (0.3.0)\n",
      "Requirement already satisfied: rsa<5,>=3.1.4 in /usr/local/lib/python3.8/dist-packages (from google-auth<3.0dev,>=2.23.3->google-cloud-storage==2.13.0) (4.9)\n",
      "Requirement already satisfied: charset-normalizer<4,>=2 in /usr/local/lib/python3.8/dist-packages (from requests<3.0.0dev,>=2.18.0->google-cloud-storage==2.13.0) (3.3.2)\n",
      "Requirement already satisfied: idna<4,>=2.5 in /usr/lib/python3/dist-packages (from requests<3.0.0dev,>=2.18.0->google-cloud-storage==2.13.0) (2.8)\n",
      "Requirement already satisfied: urllib3<3,>=1.21.1 in /usr/local/lib/python3.8/dist-packages (from requests<3.0.0dev,>=2.18.0->google-cloud-storage==2.13.0) (2.1.0)\n",
      "Requirement already satisfied: certifi>=2017.4.17 in /usr/lib/python3/dist-packages (from requests<3.0.0dev,>=2.18.0->google-cloud-storage==2.13.0) (2019.11.28)\n",
      "Requirement already satisfied: markdown-it-py>=2.2.0 in /usr/local/lib/python3.8/dist-packages (from rich<14.0.0,>=10.11.0->typer[All]==0.9.0) (3.0.0)\n",
      "Requirement already satisfied: pygments<3.0.0,>=2.13.0 in /usr/local/lib/python3.8/dist-packages (from rich<14.0.0,>=10.11.0->typer[All]==0.9.0) (2.17.2)\n",
      "Requirement already satisfied: mdurl~=0.1 in /usr/local/lib/python3.8/dist-packages (from markdown-it-py>=2.2.0->rich<14.0.0,>=10.11.0->typer[All]==0.9.0) (0.1.2)\n",
      "Requirement already satisfied: pyasn1<0.6.0,>=0.4.6 in /usr/local/lib/python3.8/dist-packages (from pyasn1-modules>=0.2.1->google-auth<3.0dev,>=2.23.3->google-cloud-storage==2.13.0) (0.5.1)\n",
      "\u001b[33mWARNING: Running pip as the 'root' user can result in broken permissions and conflicting behaviour with the system package manager. It is recommended to use a virtual environment instead: https://pip.pypa.io/warnings/venv\u001b[0m\u001b[33m\n",
      "\u001b[0m"
     ]
    }
   ],
   "source": [
    "!pip3.8 install typer[All]==0.9.0 google-cloud-storage==2.13.0"
   ]
  },
  {
   "cell_type": "markdown",
   "id": "697b5820-852d-4c30-a178-9dd78bbdbd5f",
   "metadata": {},
   "source": [
    "## Install SDKMAN for setting up JVM 8 enviroment"
   ]
  },
  {
   "cell_type": "code",
   "execution_count": 34,
   "id": "2a3cdb5b-4978-479e-85c7-c9dbac3e65fd",
   "metadata": {},
   "outputs": [
    {
     "name": "stdout",
     "output_type": "stream",
     "text": [
      "\n",
      "                                -+syyyyyyys:\n",
      "                            `/yho:`       -yd.\n",
      "                         `/yh/`             +m.\n",
      "                       .oho.                 hy                          .`\n",
      "                     .sh/`                   :N`                `-/o`  `+dyyo:.\n",
      "                   .yh:`                     `M-          `-/osysoym  :hs` `-+sys:      hhyssssssssy+\n",
      "                 .sh:`                       `N:          ms/-``  yy.yh-      -hy.    `.N-````````+N.\n",
      "               `od/`                         `N-       -/oM-      ddd+`     `sd:     hNNm        -N:\n",
      "              :do`                           .M.       dMMM-     `ms.      /d+`     `NMMs       `do\n",
      "            .yy-                             :N`    ```mMMM.      -      -hy.       /MMM:       yh\n",
      "          `+d+`           `:/oo/`       `-/osyh/ossssssdNMM`           .sh:         yMMN`      /m.\n",
      "         -dh-           :ymNMMMMy  `-/shmNm-`:N/-.``   `.sN            /N-         `NMMy      .m/\n",
      "       `oNs`          -hysosmMMMMydmNmds+-.:ohm           :             sd`        :MMM/      yy\n",
      "      .hN+           /d:    -MMMmhs/-.`   .MMMh   .ss+-                 `yy`       sMMN`     :N.\n",
      "     :mN/           `N/     `o/-`         :MMMo   +MMMN-         .`      `ds       mMMh      do\n",
      "    /NN/            `N+....--:/+oooosooo+:sMMM:   hMMMM:        `my       .m+     -MMM+     :N.\n",
      "   /NMo              -+ooooo+/:-....`...:+hNMN.  `NMMMd`        .MM/       -m:    oMMN.     hs\n",
      "  -NMd`                                    :mm   -MMMm- .s/     -MMm.       /m-   mMMd     -N.\n",
      " `mMM/                                      .-   /MMh. -dMo     -MMMy        od. .MMMs..---yh\n",
      " +MMM.                                           sNo`.sNMM+     :MMMM/        sh`+MMMNmNm+++-\n",
      " mMMM-                                           /--ohmMMM+     :MMMMm.       `hyymmmdddo\n",
      " MMMMh.                  ````                  `-+yy/`yMMM/     :MMMMMy       -sm:.``..-:-.`\n",
      " dMMMMmo-.``````..-:/osyhddddho.           `+shdh+.   hMMM:     :MmMMMM/   ./yy/` `:sys+/+sh/\n",
      " .dMMMMMMmdddddmmNMMMNNNNNMMMMMs           sNdo-      dMMM-  `-/yd/MMMMm-:sy+.   :hs-      /N`\n",
      "  `/ymNNNNNNNmmdys+/::----/dMMm:          +m-         mMMM+ohmo/.` sMMMMdo-    .om:       `sh\n",
      "     `.-----+/.`       `.-+hh/`         `od.          NMMNmds/     `mmy:`     +mMy      `:yy.\n",
      "           /moyso+//+ossso:.           .yy`          `dy+:`         ..       :MMMN+---/oys:\n",
      "         /+m:  `.-:::-`               /d+                                    +MMMMMMMNh:`\n",
      "        +MN/                        -yh.                                     `+hddhy+.\n",
      "       /MM+                       .sh:\n",
      "      :NMo                      -sh/\n",
      "     -NMs                    `/yy:\n",
      "    .NMy                  `:sh+.\n",
      "   `mMm`               ./yds-\n",
      "  `dMMMmyo:-.````.-:oymNy:`\n",
      "  +NMMMMMMMMMMMMMMMMms:`\n",
      "    -+shmNMMMNmdy+:`\n",
      "\n",
      "\n",
      "                                                                 Now attempting installation...\n",
      "\n",
      "\n",
      "Looking for a previous installation of SDKMAN...\n",
      "SDKMAN found.\n",
      "\n",
      "======================================================================================================\n",
      " You already have SDKMAN installed.\n",
      " SDKMAN was found at:\n",
      "\n",
      "    /root/.sdkman\n",
      "\n",
      " Please consider running the following if you need to upgrade.\n",
      "\n",
      "    $ sdk selfupdate force\n",
      "\n",
      "======================================================================================================\n",
      "\n"
     ]
    }
   ],
   "source": [
    "%%bash\n",
    "curl -s https://get.sdkman.io | bash"
   ]
  },
  {
   "cell_type": "markdown",
   "id": "691084f8-a883-408a-8d16-cc717669c04d",
   "metadata": {},
   "source": [
    "## Install and set as default JVM 8"
   ]
  },
  {
   "cell_type": "code",
   "execution_count": 35,
   "id": "275488e6-68e3-4f42-a3ca-060b286bade8",
   "metadata": {},
   "outputs": [
    {
     "name": "stdout",
     "output_type": "stream",
     "text": [
      "\n",
      "\u001b[1;33mjava 8.0.392-amzn is already installed.\u001b[0m\n",
      "\n",
      "\u001b[1;32mUsing java version 8.0.392-amzn in this shell.\u001b[0m\n"
     ]
    }
   ],
   "source": [
    "%%bash\n",
    "source \"$HOME/.sdkman/bin/sdkman-init.sh\"\n",
    "sdk install java 8.0.392-amzn\n",
    "sdk use java 8.0.392-amzn"
   ]
  },
  {
   "cell_type": "markdown",
   "id": "3554db58-b832-45e2-a1f6-28bd873ae31d",
   "metadata": {},
   "source": [
    "## Check if JVM 8 is used"
   ]
  },
  {
   "cell_type": "code",
   "execution_count": 36,
   "id": "898835b7-c347-49dd-bc0f-ca845375e1e5",
   "metadata": {},
   "outputs": [
    {
     "name": "stderr",
     "output_type": "stream",
     "text": [
      "openjdk version \"1.8.0_392\"\n",
      "OpenJDK Runtime Environment Corretto-8.392.08.1 (build 1.8.0_392-b08)\n",
      "OpenJDK 64-Bit Server VM Corretto-8.392.08.1 (build 25.392-b08, mixed mode)\n"
     ]
    }
   ],
   "source": [
    "%%bash\n",
    "source \"$HOME/.sdkman/bin/sdkman-init.sh\"\n",
    "java -version"
   ]
  },
  {
   "cell_type": "markdown",
   "id": "3e45d9a3-e599-4661-944b-1bdfe3808c19",
   "metadata": {},
   "source": [
    "## Clone tbd-tpc-di repo"
   ]
  },
  {
   "cell_type": "code",
   "execution_count": 37,
   "id": "7481d445-4ea6-40cc-8320-5520fe8d4dd4",
   "metadata": {},
   "outputs": [
    {
     "name": "stderr",
     "output_type": "stream",
     "text": [
      "Already on 'notebook'\n"
     ]
    },
    {
     "name": "stdout",
     "output_type": "stream",
     "text": [
      "Your branch is up to date with 'origin/notebook'.\n"
     ]
    }
   ],
   "source": [
    "%%bash\n",
    "mkdir -p git && cd git\n",
    "# git clone https://github.com/thai-chicken/tbd-tpc-di.git\n",
    "cd tbd-tpc-di\n",
    "# git pull\n",
    "git checkout notebook"
   ]
  },
  {
   "cell_type": "markdown",
   "id": "7b992bfc-8f8c-42eb-bf07-069b0d897fda",
   "metadata": {
    "tags": []
   },
   "source": [
    "## Generate input dataset (run this cell below from the terminal!!!)\n",
    "It should take approx. 15min with scale factor set to 100 and generate approx. 10GiB"
   ]
  },
  {
   "cell_type": "code",
   "execution_count": null,
   "id": "790ab901-15dc-4e94-b4fd-e2b9cfc6e012",
   "metadata": {},
   "outputs": [],
   "source": [
    "%%script bash\n",
    "source \"$HOME/.sdkman/bin/sdkman-init.sh\"\n",
    "cd /home/jupyter/git/tbd-tpc-di/tools/ \n",
    "java -jar DIGen.jar -sf 10 -o /tmp/tpc-di"
   ]
  },
  {
   "cell_type": "code",
   "execution_count": null,
   "id": "9a24c0aa-bff7-4831-869d-3183e7373a94",
   "metadata": {},
   "outputs": [],
   "source": [
    "# Install and setup JVM 11"
   ]
  },
  {
   "cell_type": "code",
   "execution_count": 26,
   "id": "62e466e8-41aa-4afc-8392-5675d36adcf4",
   "metadata": {},
   "outputs": [
    {
     "name": "stdout",
     "output_type": "stream",
     "text": [
      "\n",
      "\u001b[1;33mjava 11.0.21-amzn is already installed.\u001b[0m\n",
      "\n",
      "\u001b[1;32mUsing java version 11.0.21-amzn in this shell.\u001b[0m\n"
     ]
    }
   ],
   "source": [
    "%%bash\n",
    "source \"$HOME/.sdkman/bin/sdkman-init.sh\"\n",
    "sdk install java 11.0.21-amzn\n",
    "sdk use java 11.0.21-amzn -y"
   ]
  },
  {
   "cell_type": "markdown",
   "id": "0dccda4c-40d4-40fe-9d2e-68b416522f64",
   "metadata": {},
   "source": [
    "## Load staging"
   ]
  },
  {
   "cell_type": "code",
   "execution_count": 38,
   "id": "259b72bc-2efd-405b-883f-618a9772bf22",
   "metadata": {},
   "outputs": [
    {
     "name": "stderr",
     "output_type": "stream",
     "text": [
      "Setting default log level to \"WARN\".\n",
      "To adjust logging level use sc.setLogLevel(newLevel). For SparkR, use setLogLevel(newLevel).\n"
     ]
    },
    {
     "name": "stdout",
     "output_type": "stream",
     "text": [
      "24/01/04 13:06:33 WARN NativeCodeLoader: Unable to load native-hadoop library for your platform... using builtin-java classes where applicable\n",
      "24/01/04 13:06:53 WARN FileStreamSink: Assume no metadata directory. Error while looking for metadata directory in the path: gs://tbd-2023z-304098-data/tpc-di/Date.txt.\n",
      "java.lang.RuntimeException: java.lang.ClassNotFoundException: Class com.google.cloud.hadoop.fs.gcs.GoogleHadoopFileSystem not found\n",
      "\tat org.apache.hadoop.conf.Configuration.getClass(Configuration.java:2688)\n",
      "\tat org.apache.hadoop.fs.FileSystem.getFileSystemClass(FileSystem.java:3431)\n",
      "\tat org.apache.hadoop.fs.FileSystem.createFileSystem(FileSystem.java:3466)\n",
      "\tat org.apache.hadoop.fs.FileSystem.access$300(FileSystem.java:174)\n",
      "\tat org.apache.hadoop.fs.FileSystem$Cache.getInternal(FileSystem.java:3574)\n",
      "\tat org.apache.hadoop.fs.FileSystem$Cache.get(FileSystem.java:3521)\n",
      "\tat org.apache.hadoop.fs.FileSystem.get(FileSystem.java:540)\n",
      "\tat org.apache.hadoop.fs.Path.getFileSystem(Path.java:365)\n",
      "\tat org.apache.spark.sql.execution.streaming.FileStreamSink$.hasMetadata(FileStreamSink.scala:53)\n",
      "\tat org.apache.spark.sql.execution.datasources.DataSource.resolveRelation(DataSource.scala:370)\n",
      "\tat org.apache.spark.sql.DataFrameReader.loadV1Source(DataFrameReader.scala:228)\n",
      "\tat org.apache.spark.sql.DataFrameReader.$anonfun$load$2(DataFrameReader.scala:210)\n",
      "\tat scala.Option.getOrElse(Option.scala:189)\n",
      "\tat org.apache.spark.sql.DataFrameReader.load(DataFrameReader.scala:210)\n",
      "\tat org.apache.spark.sql.DataFrameReader.load(DataFrameReader.scala:185)\n",
      "\tat sun.reflect.NativeMethodAccessorImpl.invoke0(Native Method)\n",
      "\tat sun.reflect.NativeMethodAccessorImpl.invoke(NativeMethodAccessorImpl.java:62)\n",
      "\tat sun.reflect.DelegatingMethodAccessorImpl.invoke(DelegatingMethodAccessorImpl.java:43)\n",
      "\tat java.lang.reflect.Method.invoke(Method.java:498)\n",
      "\tat py4j.reflection.MethodInvoker.invoke(MethodInvoker.java:244)\n",
      "\tat py4j.reflection.ReflectionEngine.invoke(ReflectionEngine.java:357)\n",
      "\tat py4j.Gateway.invoke(Gateway.java:282)\n",
      "\tat py4j.commands.AbstractCommand.invokeMethod(AbstractCommand.java:132)\n",
      "\tat py4j.commands.CallCommand.execute(CallCommand.java:79)\n",
      "\tat py4j.ClientServerConnection.waitForCommands(ClientServerConnection.java:182)\n",
      "\tat py4j.ClientServerConnection.run(ClientServerConnection.java:106)\n",
      "\tat java.lang.Thread.run(Thread.java:750)\n",
      "Caused by: java.lang.ClassNotFoundException: Class com.google.cloud.hadoop.fs.gcs.GoogleHadoopFileSystem not found\n",
      "\tat org.apache.hadoop.conf.Configuration.getClassByName(Configuration.java:2592)\n",
      "\tat org.apache.hadoop.conf.Configuration.getClass(Configuration.java:2686)\n",
      "\t... 26 more\n"
     ]
    },
    {
     "name": "stderr",
     "output_type": "stream",
     "text": [
      "\u001b[31m╭─\u001b[0m\u001b[31m────────────────────\u001b[0m\u001b[31m \u001b[0m\u001b[1;31mTraceback \u001b[0m\u001b[1;2;31m(most recent call last)\u001b[0m\u001b[31m \u001b[0m\u001b[31m─────────────────────\u001b[0m\u001b[31m─╮\u001b[0m\n",
      "\u001b[31m│\u001b[0m \u001b[2;33m/home/jupyter/git/tbd-tpc-di/\u001b[0m\u001b[1;33mtpcdi.py\u001b[0m:\u001b[94m139\u001b[0m in \u001b[92mprocess_files\u001b[0m                   \u001b[31m│\u001b[0m\n",
      "\u001b[31m│\u001b[0m                                                                              \u001b[31m│\u001b[0m\n",
      "\u001b[31m│\u001b[0m   \u001b[2m136 \u001b[0m\u001b[2m│   │   │   \u001b[0mStructField(\u001b[33m\"\u001b[0m\u001b[33mFISCAL_QTR_DESC\u001b[0m\u001b[33m\"\u001b[0m, StringType(), \u001b[94mFalse\u001b[0m),       \u001b[31m│\u001b[0m\n",
      "\u001b[31m│\u001b[0m   \u001b[2m137 \u001b[0m\u001b[2m│   │   │   \u001b[0mStructField(\u001b[33m\"\u001b[0m\u001b[33mHOLIDAY_FLAG\u001b[0m\u001b[33m\"\u001b[0m, BooleanType(), \u001b[94mFalse\u001b[0m),         \u001b[31m│\u001b[0m\n",
      "\u001b[31m│\u001b[0m   \u001b[2m138 \u001b[0m\u001b[2m│   │   \u001b[0m])                                                             \u001b[31m│\u001b[0m\n",
      "\u001b[31m│\u001b[0m \u001b[31m❱ \u001b[0m139 \u001b[2m│   │   \u001b[0mload_csv(schema, con_file_name, \u001b[33m'\u001b[0m\u001b[33mdate\u001b[0m\u001b[33m'\u001b[0m)                        \u001b[31m│\u001b[0m\n",
      "\u001b[31m│\u001b[0m   \u001b[2m140 \u001b[0m\u001b[2m│   \u001b[0m                                                                   \u001b[31m│\u001b[0m\n",
      "\u001b[31m│\u001b[0m   \u001b[2m141 \u001b[0m\u001b[2m│   \u001b[0mcon_file_name = \u001b[33m'\u001b[0m\u001b[33mDailyMarket.txt\u001b[0m\u001b[33m'\u001b[0m                                  \u001b[31m│\u001b[0m\n",
      "\u001b[31m│\u001b[0m   \u001b[2m142 \u001b[0m\u001b[2m│   \u001b[0m\u001b[94mif\u001b[0m file_name \u001b[95min\u001b[0m [\u001b[33m'\u001b[0m\u001b[33mall\u001b[0m\u001b[33m'\u001b[0m, con_file_name]:                            \u001b[31m│\u001b[0m\n",
      "\u001b[31m│\u001b[0m                                                                              \u001b[31m│\u001b[0m\n",
      "\u001b[31m│\u001b[0m \u001b[33m╭─\u001b[0m\u001b[33m────────────────────────────────\u001b[0m\u001b[33m locals \u001b[0m\u001b[33m────────────────────────────────\u001b[0m\u001b[33m─╮\u001b[0m \u001b[31m│\u001b[0m\n",
      "\u001b[31m│\u001b[0m \u001b[33m│\u001b[0m            batch = \u001b[94m1\u001b[0m                                                     \u001b[33m│\u001b[0m \u001b[31m│\u001b[0m\n",
      "\u001b[31m│\u001b[0m \u001b[33m│\u001b[0m    con_file_name = \u001b[33m'Date.txt'\u001b[0m                                            \u001b[33m│\u001b[0m \u001b[31m│\u001b[0m\n",
      "\u001b[31m│\u001b[0m \u001b[33m│\u001b[0m        file_name = \u001b[33m'all'\u001b[0m                                                 \u001b[33m│\u001b[0m \u001b[31m│\u001b[0m\n",
      "\u001b[31m│\u001b[0m \u001b[33m│\u001b[0m   get_stage_path = \u001b[1m<\u001b[0m\u001b[1;95mfunction\u001b[0m\u001b[39m process_files.<locals>.get_stage_path at \u001b[0m   \u001b[33m│\u001b[0m \u001b[31m│\u001b[0m\n",
      "\u001b[31m│\u001b[0m \u001b[33m│\u001b[0m                    \u001b[94m0x7f55cfdf6430\u001b[0m\u001b[1m>\u001b[0m                                       \u001b[33m│\u001b[0m \u001b[31m│\u001b[0m\n",
      "\u001b[31m│\u001b[0m \u001b[33m│\u001b[0m         load_csv = \u001b[1m<\u001b[0m\u001b[1;95mfunction\u001b[0m\u001b[39m process_files.<locals>.load_csv at \u001b[0m         \u001b[33m│\u001b[0m \u001b[31m│\u001b[0m\n",
      "\u001b[31m│\u001b[0m \u001b[33m│\u001b[0m                    \u001b[94m0x7f55cfdf64c0\u001b[0m\u001b[1m>\u001b[0m                                       \u001b[33m│\u001b[0m \u001b[31m│\u001b[0m\n",
      "\u001b[31m│\u001b[0m \u001b[33m│\u001b[0m output_directory = \u001b[33m'/tmp/tpc-di'\u001b[0m                                         \u001b[33m│\u001b[0m \u001b[31m│\u001b[0m\n",
      "\u001b[31m│\u001b[0m \u001b[33m│\u001b[0m        overwrite = \u001b[94mFalse\u001b[0m                                                 \u001b[33m│\u001b[0m \u001b[31m│\u001b[0m\n",
      "\u001b[31m│\u001b[0m \u001b[33m│\u001b[0m          save_df = \u001b[1m<\u001b[0m\u001b[1;95mfunction\u001b[0m\u001b[39m process_files.<locals>.save_df at \u001b[0m          \u001b[33m│\u001b[0m \u001b[31m│\u001b[0m\n",
      "\u001b[31m│\u001b[0m \u001b[33m│\u001b[0m                    \u001b[94m0x7f55cfdf6550\u001b[0m\u001b[1m>\u001b[0m                                       \u001b[33m│\u001b[0m \u001b[31m│\u001b[0m\n",
      "\u001b[31m│\u001b[0m \u001b[33m│\u001b[0m           schema = \u001b[1;35mStructType\u001b[0m\u001b[1m(\u001b[0m\u001b[1m[\u001b[0m\u001b[1;35mStructField\u001b[0m\u001b[1m(\u001b[0m\u001b[33m'SK_DATE_ID'\u001b[0m, \u001b[1;35mIntegerType\u001b[0m\u001b[1m(\u001b[0m\u001b[1m)\u001b[0m,  \u001b[33m│\u001b[0m \u001b[31m│\u001b[0m\n",
      "\u001b[31m│\u001b[0m \u001b[33m│\u001b[0m                    \u001b[94mFalse\u001b[0m\u001b[1m)\u001b[0m, \u001b[1;35mStructField\u001b[0m\u001b[1m(\u001b[0m\u001b[33m'DATE_VALUE'\u001b[0m, \u001b[1;35mDateType\u001b[0m\u001b[1m(\u001b[0m\u001b[1m)\u001b[0m, \u001b[94mFalse\u001b[0m\u001b[1m)\u001b[0m, \u001b[33m│\u001b[0m \u001b[31m│\u001b[0m\n",
      "\u001b[31m│\u001b[0m \u001b[33m│\u001b[0m                    \u001b[1;35mStructField\u001b[0m\u001b[1m(\u001b[0m\u001b[33m'DATE_DESC'\u001b[0m, \u001b[1;35mStringType\u001b[0m\u001b[1m(\u001b[0m\u001b[1m)\u001b[0m, \u001b[94mFalse\u001b[0m\u001b[1m)\u001b[0m,        \u001b[33m│\u001b[0m \u001b[31m│\u001b[0m\n",
      "\u001b[31m│\u001b[0m \u001b[33m│\u001b[0m                    \u001b[1;35mStructField\u001b[0m\u001b[1m(\u001b[0m\u001b[33m'CALENDAR_YEAR_ID'\u001b[0m, \u001b[1;35mIntegerType\u001b[0m\u001b[1m(\u001b[0m\u001b[1m)\u001b[0m,        \u001b[33m│\u001b[0m \u001b[31m│\u001b[0m\n",
      "\u001b[31m│\u001b[0m \u001b[33m│\u001b[0m                    \u001b[94mFalse\u001b[0m\u001b[1m)\u001b[0m, \u001b[1;35mStructField\u001b[0m\u001b[1m(\u001b[0m\u001b[33m'CALENDAR_YEAR_DESC'\u001b[0m,             \u001b[33m│\u001b[0m \u001b[31m│\u001b[0m\n",
      "\u001b[31m│\u001b[0m \u001b[33m│\u001b[0m                    \u001b[1;35mStringType\u001b[0m\u001b[1m(\u001b[0m\u001b[1m)\u001b[0m, \u001b[94mFalse\u001b[0m\u001b[1m)\u001b[0m, \u001b[1;35mStructField\u001b[0m\u001b[1m(\u001b[0m\u001b[33m'CALENDAR_QTR_ID'\u001b[0m,  \u001b[33m│\u001b[0m \u001b[31m│\u001b[0m\n",
      "\u001b[31m│\u001b[0m \u001b[33m│\u001b[0m                    \u001b[1;35mIntegerType\u001b[0m\u001b[1m(\u001b[0m\u001b[1m)\u001b[0m, \u001b[94mFalse\u001b[0m\u001b[1m)\u001b[0m,                                \u001b[33m│\u001b[0m \u001b[31m│\u001b[0m\n",
      "\u001b[31m│\u001b[0m \u001b[33m│\u001b[0m                    \u001b[1;35mStructField\u001b[0m\u001b[1m(\u001b[0m\u001b[33m'CALENDAR_QTR_DESC'\u001b[0m, \u001b[1;35mStringType\u001b[0m\u001b[1m(\u001b[0m\u001b[1m)\u001b[0m,        \u001b[33m│\u001b[0m \u001b[31m│\u001b[0m\n",
      "\u001b[31m│\u001b[0m \u001b[33m│\u001b[0m                    \u001b[94mFalse\u001b[0m\u001b[1m)\u001b[0m, \u001b[1;35mStructField\u001b[0m\u001b[1m(\u001b[0m\u001b[33m'CALENDAR_MONTH_ID'\u001b[0m,              \u001b[33m│\u001b[0m \u001b[31m│\u001b[0m\n",
      "\u001b[31m│\u001b[0m \u001b[33m│\u001b[0m                    \u001b[1;35mIntegerType\u001b[0m\u001b[1m(\u001b[0m\u001b[1m)\u001b[0m, \u001b[94mFalse\u001b[0m\u001b[1m)\u001b[0m,                                \u001b[33m│\u001b[0m \u001b[31m│\u001b[0m\n",
      "\u001b[31m│\u001b[0m \u001b[33m│\u001b[0m                    \u001b[1;35mStructField\u001b[0m\u001b[1m(\u001b[0m\u001b[33m'CALENDAR_MONTH_DESC'\u001b[0m, \u001b[1;35mStringType\u001b[0m\u001b[1m(\u001b[0m\u001b[1m)\u001b[0m,      \u001b[33m│\u001b[0m \u001b[31m│\u001b[0m\n",
      "\u001b[31m│\u001b[0m \u001b[33m│\u001b[0m                    \u001b[94mFalse\u001b[0m\u001b[1m)\u001b[0m, \u001b[1;35mStructField\u001b[0m\u001b[1m(\u001b[0m\u001b[33m'CALENDAR_WEEK_ID'\u001b[0m,               \u001b[33m│\u001b[0m \u001b[31m│\u001b[0m\n",
      "\u001b[31m│\u001b[0m \u001b[33m│\u001b[0m                    \u001b[1;35mIntegerType\u001b[0m\u001b[1m(\u001b[0m\u001b[1m)\u001b[0m, \u001b[94mFalse\u001b[0m\u001b[1m)\u001b[0m,                                \u001b[33m│\u001b[0m \u001b[31m│\u001b[0m\n",
      "\u001b[31m│\u001b[0m \u001b[33m│\u001b[0m                    \u001b[1;35mStructField\u001b[0m\u001b[1m(\u001b[0m\u001b[33m'CALENDAR_WEEK_DESC'\u001b[0m, \u001b[1;35mStringType\u001b[0m\u001b[1m(\u001b[0m\u001b[1m)\u001b[0m,       \u001b[33m│\u001b[0m \u001b[31m│\u001b[0m\n",
      "\u001b[31m│\u001b[0m \u001b[33m│\u001b[0m                    \u001b[94mFalse\u001b[0m\u001b[1m)\u001b[0m, \u001b[1;35mStructField\u001b[0m\u001b[1m(\u001b[0m\u001b[33m'DAY_OF_WEEK_NUM'\u001b[0m, \u001b[1;35mIntegerType\u001b[0m\u001b[1m(\u001b[0m\u001b[1m)\u001b[0m, \u001b[33m│\u001b[0m \u001b[31m│\u001b[0m\n",
      "\u001b[31m│\u001b[0m \u001b[33m│\u001b[0m                    \u001b[94mFalse\u001b[0m\u001b[1m)\u001b[0m, \u001b[1;35mStructField\u001b[0m\u001b[1m(\u001b[0m\u001b[33m'DAY_OF_WEEK_DESC'\u001b[0m, \u001b[1;35mStringType\u001b[0m\u001b[1m(\u001b[0m\u001b[1m)\u001b[0m, \u001b[33m│\u001b[0m \u001b[31m│\u001b[0m\n",
      "\u001b[31m│\u001b[0m \u001b[33m│\u001b[0m                    \u001b[94mFalse\u001b[0m\u001b[1m)\u001b[0m, \u001b[1;35mStructField\u001b[0m\u001b[1m(\u001b[0m\u001b[33m'FISCAL_YEAR_ID'\u001b[0m, \u001b[1;35mIntegerType\u001b[0m\u001b[1m(\u001b[0m\u001b[1m)\u001b[0m,  \u001b[33m│\u001b[0m \u001b[31m│\u001b[0m\n",
      "\u001b[31m│\u001b[0m \u001b[33m│\u001b[0m                    \u001b[94mFalse\u001b[0m\u001b[1m)\u001b[0m, \u001b[1;35mStructField\u001b[0m\u001b[1m(\u001b[0m\u001b[33m'FISCAL_YEAR_DESC'\u001b[0m, \u001b[1;35mStringType\u001b[0m\u001b[1m(\u001b[0m\u001b[1m)\u001b[0m, \u001b[33m│\u001b[0m \u001b[31m│\u001b[0m\n",
      "\u001b[31m│\u001b[0m \u001b[33m│\u001b[0m                    \u001b[94mFalse\u001b[0m\u001b[1m)\u001b[0m, \u001b[1;35mStructField\u001b[0m\u001b[1m(\u001b[0m\u001b[33m'FISCAL_QTR_ID'\u001b[0m, \u001b[1;35mIntegerType\u001b[0m\u001b[1m(\u001b[0m\u001b[1m)\u001b[0m,   \u001b[33m│\u001b[0m \u001b[31m│\u001b[0m\n",
      "\u001b[31m│\u001b[0m \u001b[33m│\u001b[0m                    \u001b[94mFalse\u001b[0m\u001b[1m)\u001b[0m, \u001b[1;35mStructField\u001b[0m\u001b[1m(\u001b[0m\u001b[33m'FISCAL_QTR_DESC'\u001b[0m, \u001b[1;35mStringType\u001b[0m\u001b[1m(\u001b[0m\u001b[1m)\u001b[0m,  \u001b[33m│\u001b[0m \u001b[31m│\u001b[0m\n",
      "\u001b[31m│\u001b[0m \u001b[33m│\u001b[0m                    \u001b[94mFalse\u001b[0m\u001b[1m)\u001b[0m, \u001b[1;35mStructField\u001b[0m\u001b[1m(\u001b[0m\u001b[33m'HOLIDAY_FLAG'\u001b[0m, \u001b[1;35mBooleanType\u001b[0m\u001b[1m(\u001b[0m\u001b[1m)\u001b[0m,    \u001b[33m│\u001b[0m \u001b[31m│\u001b[0m\n",
      "\u001b[31m│\u001b[0m \u001b[33m│\u001b[0m                    \u001b[94mFalse\u001b[0m\u001b[1m)\u001b[0m\u001b[1m]\u001b[0m\u001b[1m)\u001b[0m                                              \u001b[33m│\u001b[0m \u001b[31m│\u001b[0m\n",
      "\u001b[31m│\u001b[0m \u001b[33m│\u001b[0m          session = \u001b[1m<\u001b[0m\u001b[1;95mpyspark.sql.session.SparkSession\u001b[0m\u001b[39m object at \u001b[0m          \u001b[33m│\u001b[0m \u001b[31m│\u001b[0m\n",
      "\u001b[31m│\u001b[0m \u001b[33m│\u001b[0m                    \u001b[94m0x7f55cfeadf70\u001b[0m\u001b[1m>\u001b[0m                                       \u001b[33m│\u001b[0m \u001b[31m│\u001b[0m\n",
      "\u001b[31m│\u001b[0m \u001b[33m│\u001b[0m             show = \u001b[94mFalse\u001b[0m                                                 \u001b[33m│\u001b[0m \u001b[31m│\u001b[0m\n",
      "\u001b[31m│\u001b[0m \u001b[33m│\u001b[0m      skip_upload = \u001b[94mFalse\u001b[0m                                                 \u001b[33m│\u001b[0m \u001b[31m│\u001b[0m\n",
      "\u001b[31m│\u001b[0m \u001b[33m│\u001b[0m            stage = \u001b[33m'tbd-2023z-304098-data'\u001b[0m                               \u001b[33m│\u001b[0m \u001b[31m│\u001b[0m\n",
      "\u001b[31m│\u001b[0m \u001b[33m│\u001b[0m     upload_files = \u001b[1m<\u001b[0m\u001b[1;95mfunction\u001b[0m\u001b[39m process_files.<locals>.upload_files at \u001b[0m     \u001b[33m│\u001b[0m \u001b[31m│\u001b[0m\n",
      "\u001b[31m│\u001b[0m \u001b[33m│\u001b[0m                    \u001b[94m0x7f55cfdf65e0\u001b[0m\u001b[1m>\u001b[0m                                       \u001b[33m│\u001b[0m \u001b[31m│\u001b[0m\n",
      "\u001b[31m│\u001b[0m \u001b[33m╰──────────────────────────────────────────────────────────────────────────╯\u001b[0m \u001b[31m│\u001b[0m\n",
      "\u001b[31m│\u001b[0m                                                                              \u001b[31m│\u001b[0m\n",
      "\u001b[31m│\u001b[0m \u001b[2;33m/home/jupyter/git/tbd-tpc-di/\u001b[0m\u001b[1;33mtpcdi.py\u001b[0m:\u001b[94m106\u001b[0m in \u001b[92mload_csv\u001b[0m                        \u001b[31m│\u001b[0m\n",
      "\u001b[31m│\u001b[0m                                                                              \u001b[31m│\u001b[0m\n",
      "\u001b[31m│\u001b[0m   \u001b[2m103 \u001b[0m\u001b[2m│   │   \u001b[0mdelimiter = upload_files(file_name, stage)                     \u001b[31m│\u001b[0m\n",
      "\u001b[31m│\u001b[0m   \u001b[2m104 \u001b[0m\u001b[2m│   │   \u001b[0m                                                               \u001b[31m│\u001b[0m\n",
      "\u001b[31m│\u001b[0m   \u001b[2m105 \u001b[0m\u001b[2m│   │   \u001b[0mdf = (                                                         \u001b[31m│\u001b[0m\n",
      "\u001b[31m│\u001b[0m \u001b[31m❱ \u001b[0m106 \u001b[2m│   │   │   \u001b[0msession                                                    \u001b[31m│\u001b[0m\n",
      "\u001b[31m│\u001b[0m   \u001b[2m107 \u001b[0m\u001b[2m│   │   │   \u001b[0m.read                                                      \u001b[31m│\u001b[0m\n",
      "\u001b[31m│\u001b[0m   \u001b[2m108 \u001b[0m\u001b[2m│   │   │   \u001b[0m.format(\u001b[33m\"\u001b[0m\u001b[33mcsv\u001b[0m\u001b[33m\"\u001b[0m)                                             \u001b[31m│\u001b[0m\n",
      "\u001b[31m│\u001b[0m   \u001b[2m109 \u001b[0m\u001b[2m│   │   │   \u001b[0m.schema(schema)                                            \u001b[31m│\u001b[0m\n",
      "\u001b[31m│\u001b[0m                                                                              \u001b[31m│\u001b[0m\n",
      "\u001b[31m│\u001b[0m \u001b[33m╭─\u001b[0m\u001b[33m────────────────────────────────\u001b[0m\u001b[33m locals \u001b[0m\u001b[33m────────────────────────────────\u001b[0m\u001b[33m─╮\u001b[0m \u001b[31m│\u001b[0m\n",
      "\u001b[31m│\u001b[0m \u001b[33m│\u001b[0m      delimiter = \u001b[33m'|'\u001b[0m                                                     \u001b[33m│\u001b[0m \u001b[31m│\u001b[0m\n",
      "\u001b[31m│\u001b[0m \u001b[33m│\u001b[0m      file_name = \u001b[33m'Date.txt'\u001b[0m                                              \u001b[33m│\u001b[0m \u001b[31m│\u001b[0m\n",
      "\u001b[31m│\u001b[0m \u001b[33m│\u001b[0m get_stage_path = \u001b[1m<\u001b[0m\u001b[1;95mfunction\u001b[0m\u001b[39m process_files.<locals>.get_stage_path at \u001b[0m     \u001b[33m│\u001b[0m \u001b[31m│\u001b[0m\n",
      "\u001b[31m│\u001b[0m \u001b[33m│\u001b[0m                  \u001b[94m0x7f55cfdf6430\u001b[0m\u001b[1m>\u001b[0m                                         \u001b[33m│\u001b[0m \u001b[31m│\u001b[0m\n",
      "\u001b[31m│\u001b[0m \u001b[33m│\u001b[0m        save_df = \u001b[1m<\u001b[0m\u001b[1;95mfunction\u001b[0m\u001b[39m process_files.<locals>.save_df at \u001b[0m            \u001b[33m│\u001b[0m \u001b[31m│\u001b[0m\n",
      "\u001b[31m│\u001b[0m \u001b[33m│\u001b[0m                  \u001b[94m0x7f55cfdf6550\u001b[0m\u001b[1m>\u001b[0m                                         \u001b[33m│\u001b[0m \u001b[31m│\u001b[0m\n",
      "\u001b[31m│\u001b[0m \u001b[33m│\u001b[0m         schema = \u001b[1;35mStructType\u001b[0m\u001b[1m(\u001b[0m\u001b[1m[\u001b[0m\u001b[1;35mStructField\u001b[0m\u001b[1m(\u001b[0m\u001b[33m'SK_DATE_ID'\u001b[0m, \u001b[1;35mIntegerType\u001b[0m\u001b[1m(\u001b[0m\u001b[1m)\u001b[0m,    \u001b[33m│\u001b[0m \u001b[31m│\u001b[0m\n",
      "\u001b[31m│\u001b[0m \u001b[33m│\u001b[0m                  \u001b[94mFalse\u001b[0m\u001b[1m)\u001b[0m, \u001b[1;35mStructField\u001b[0m\u001b[1m(\u001b[0m\u001b[33m'DATE_VALUE'\u001b[0m, \u001b[1;35mDateType\u001b[0m\u001b[1m(\u001b[0m\u001b[1m)\u001b[0m, \u001b[94mFalse\u001b[0m\u001b[1m)\u001b[0m,   \u001b[33m│\u001b[0m \u001b[31m│\u001b[0m\n",
      "\u001b[31m│\u001b[0m \u001b[33m│\u001b[0m                  \u001b[1;35mStructField\u001b[0m\u001b[1m(\u001b[0m\u001b[33m'DATE_DESC'\u001b[0m, \u001b[1;35mStringType\u001b[0m\u001b[1m(\u001b[0m\u001b[1m)\u001b[0m, \u001b[94mFalse\u001b[0m\u001b[1m)\u001b[0m,          \u001b[33m│\u001b[0m \u001b[31m│\u001b[0m\n",
      "\u001b[31m│\u001b[0m \u001b[33m│\u001b[0m                  \u001b[1;35mStructField\u001b[0m\u001b[1m(\u001b[0m\u001b[33m'CALENDAR_YEAR_ID'\u001b[0m, \u001b[1;35mIntegerType\u001b[0m\u001b[1m(\u001b[0m\u001b[1m)\u001b[0m, \u001b[94mFalse\u001b[0m\u001b[1m)\u001b[0m,  \u001b[33m│\u001b[0m \u001b[31m│\u001b[0m\n",
      "\u001b[31m│\u001b[0m \u001b[33m│\u001b[0m                  \u001b[1;35mStructField\u001b[0m\u001b[1m(\u001b[0m\u001b[33m'CALENDAR_YEAR_DESC'\u001b[0m, \u001b[1;35mStringType\u001b[0m\u001b[1m(\u001b[0m\u001b[1m)\u001b[0m, \u001b[94mFalse\u001b[0m\u001b[1m)\u001b[0m, \u001b[33m│\u001b[0m \u001b[31m│\u001b[0m\n",
      "\u001b[31m│\u001b[0m \u001b[33m│\u001b[0m                  \u001b[1;35mStructField\u001b[0m\u001b[1m(\u001b[0m\u001b[33m'CALENDAR_QTR_ID'\u001b[0m, \u001b[1;35mIntegerType\u001b[0m\u001b[1m(\u001b[0m\u001b[1m)\u001b[0m, \u001b[94mFalse\u001b[0m\u001b[1m)\u001b[0m,   \u001b[33m│\u001b[0m \u001b[31m│\u001b[0m\n",
      "\u001b[31m│\u001b[0m \u001b[33m│\u001b[0m                  \u001b[1;35mStructField\u001b[0m\u001b[1m(\u001b[0m\u001b[33m'CALENDAR_QTR_DESC'\u001b[0m, \u001b[1;35mStringType\u001b[0m\u001b[1m(\u001b[0m\u001b[1m)\u001b[0m, \u001b[94mFalse\u001b[0m\u001b[1m)\u001b[0m,  \u001b[33m│\u001b[0m \u001b[31m│\u001b[0m\n",
      "\u001b[31m│\u001b[0m \u001b[33m│\u001b[0m                  \u001b[1;35mStructField\u001b[0m\u001b[1m(\u001b[0m\u001b[33m'CALENDAR_MONTH_ID'\u001b[0m, \u001b[1;35mIntegerType\u001b[0m\u001b[1m(\u001b[0m\u001b[1m)\u001b[0m, \u001b[94mFalse\u001b[0m\u001b[1m)\u001b[0m, \u001b[33m│\u001b[0m \u001b[31m│\u001b[0m\n",
      "\u001b[31m│\u001b[0m \u001b[33m│\u001b[0m                  \u001b[1;35mStructField\u001b[0m\u001b[1m(\u001b[0m\u001b[33m'CALENDAR_MONTH_DESC'\u001b[0m, \u001b[1;35mStringType\u001b[0m\u001b[1m(\u001b[0m\u001b[1m)\u001b[0m,        \u001b[33m│\u001b[0m \u001b[31m│\u001b[0m\n",
      "\u001b[31m│\u001b[0m \u001b[33m│\u001b[0m                  \u001b[94mFalse\u001b[0m\u001b[1m)\u001b[0m, \u001b[1;35mStructField\u001b[0m\u001b[1m(\u001b[0m\u001b[33m'CALENDAR_WEEK_ID'\u001b[0m, \u001b[1;35mIntegerType\u001b[0m\u001b[1m(\u001b[0m\u001b[1m)\u001b[0m,  \u001b[33m│\u001b[0m \u001b[31m│\u001b[0m\n",
      "\u001b[31m│\u001b[0m \u001b[33m│\u001b[0m                  \u001b[94mFalse\u001b[0m\u001b[1m)\u001b[0m, \u001b[1;35mStructField\u001b[0m\u001b[1m(\u001b[0m\u001b[33m'CALENDAR_WEEK_DESC'\u001b[0m, \u001b[1;35mStringType\u001b[0m\u001b[1m(\u001b[0m\u001b[1m)\u001b[0m, \u001b[33m│\u001b[0m \u001b[31m│\u001b[0m\n",
      "\u001b[31m│\u001b[0m \u001b[33m│\u001b[0m                  \u001b[94mFalse\u001b[0m\u001b[1m)\u001b[0m, \u001b[1;35mStructField\u001b[0m\u001b[1m(\u001b[0m\u001b[33m'DAY_OF_WEEK_NUM'\u001b[0m, \u001b[1;35mIntegerType\u001b[0m\u001b[1m(\u001b[0m\u001b[1m)\u001b[0m,   \u001b[33m│\u001b[0m \u001b[31m│\u001b[0m\n",
      "\u001b[31m│\u001b[0m \u001b[33m│\u001b[0m                  \u001b[94mFalse\u001b[0m\u001b[1m)\u001b[0m, \u001b[1;35mStructField\u001b[0m\u001b[1m(\u001b[0m\u001b[33m'DAY_OF_WEEK_DESC'\u001b[0m, \u001b[1;35mStringType\u001b[0m\u001b[1m(\u001b[0m\u001b[1m)\u001b[0m,   \u001b[33m│\u001b[0m \u001b[31m│\u001b[0m\n",
      "\u001b[31m│\u001b[0m \u001b[33m│\u001b[0m                  \u001b[94mFalse\u001b[0m\u001b[1m)\u001b[0m, \u001b[1;35mStructField\u001b[0m\u001b[1m(\u001b[0m\u001b[33m'FISCAL_YEAR_ID'\u001b[0m, \u001b[1;35mIntegerType\u001b[0m\u001b[1m(\u001b[0m\u001b[1m)\u001b[0m,    \u001b[33m│\u001b[0m \u001b[31m│\u001b[0m\n",
      "\u001b[31m│\u001b[0m \u001b[33m│\u001b[0m                  \u001b[94mFalse\u001b[0m\u001b[1m)\u001b[0m, \u001b[1;35mStructField\u001b[0m\u001b[1m(\u001b[0m\u001b[33m'FISCAL_YEAR_DESC'\u001b[0m, \u001b[1;35mStringType\u001b[0m\u001b[1m(\u001b[0m\u001b[1m)\u001b[0m,   \u001b[33m│\u001b[0m \u001b[31m│\u001b[0m\n",
      "\u001b[31m│\u001b[0m \u001b[33m│\u001b[0m                  \u001b[94mFalse\u001b[0m\u001b[1m)\u001b[0m, \u001b[1;35mStructField\u001b[0m\u001b[1m(\u001b[0m\u001b[33m'FISCAL_QTR_ID'\u001b[0m, \u001b[1;35mIntegerType\u001b[0m\u001b[1m(\u001b[0m\u001b[1m)\u001b[0m,     \u001b[33m│\u001b[0m \u001b[31m│\u001b[0m\n",
      "\u001b[31m│\u001b[0m \u001b[33m│\u001b[0m                  \u001b[94mFalse\u001b[0m\u001b[1m)\u001b[0m, \u001b[1;35mStructField\u001b[0m\u001b[1m(\u001b[0m\u001b[33m'FISCAL_QTR_DESC'\u001b[0m, \u001b[1;35mStringType\u001b[0m\u001b[1m(\u001b[0m\u001b[1m)\u001b[0m,    \u001b[33m│\u001b[0m \u001b[31m│\u001b[0m\n",
      "\u001b[31m│\u001b[0m \u001b[33m│\u001b[0m                  \u001b[94mFalse\u001b[0m\u001b[1m)\u001b[0m, \u001b[1;35mStructField\u001b[0m\u001b[1m(\u001b[0m\u001b[33m'HOLIDAY_FLAG'\u001b[0m, \u001b[1;35mBooleanType\u001b[0m\u001b[1m(\u001b[0m\u001b[1m)\u001b[0m,      \u001b[33m│\u001b[0m \u001b[31m│\u001b[0m\n",
      "\u001b[31m│\u001b[0m \u001b[33m│\u001b[0m                  \u001b[94mFalse\u001b[0m\u001b[1m)\u001b[0m\u001b[1m]\u001b[0m\u001b[1m)\u001b[0m                                                \u001b[33m│\u001b[0m \u001b[31m│\u001b[0m\n",
      "\u001b[31m│\u001b[0m \u001b[33m│\u001b[0m        session = \u001b[1m<\u001b[0m\u001b[1;95mpyspark.sql.session.SparkSession\u001b[0m\u001b[39m object at \u001b[0m            \u001b[33m│\u001b[0m \u001b[31m│\u001b[0m\n",
      "\u001b[31m│\u001b[0m \u001b[33m│\u001b[0m                  \u001b[94m0x7f55cfeadf70\u001b[0m\u001b[1m>\u001b[0m                                         \u001b[33m│\u001b[0m \u001b[31m│\u001b[0m\n",
      "\u001b[31m│\u001b[0m \u001b[33m│\u001b[0m          stage = \u001b[33m'tbd-2023z-304098-data'\u001b[0m                                 \u001b[33m│\u001b[0m \u001b[31m│\u001b[0m\n",
      "\u001b[31m│\u001b[0m \u001b[33m│\u001b[0m     stage_path = \u001b[33m'gs://tbd-2023z-304098-data/tpc-di/Date.txt'\u001b[0m            \u001b[33m│\u001b[0m \u001b[31m│\u001b[0m\n",
      "\u001b[31m│\u001b[0m \u001b[33m│\u001b[0m     table_name = \u001b[33m'date'\u001b[0m                                                  \u001b[33m│\u001b[0m \u001b[31m│\u001b[0m\n",
      "\u001b[31m│\u001b[0m \u001b[33m│\u001b[0m   upload_files = \u001b[1m<\u001b[0m\u001b[1;95mfunction\u001b[0m\u001b[39m process_files.<locals>.upload_files at \u001b[0m       \u001b[33m│\u001b[0m \u001b[31m│\u001b[0m\n",
      "\u001b[31m│\u001b[0m \u001b[33m│\u001b[0m                  \u001b[94m0x7f55cfdf65e0\u001b[0m\u001b[1m>\u001b[0m                                         \u001b[33m│\u001b[0m \u001b[31m│\u001b[0m\n",
      "\u001b[31m│\u001b[0m \u001b[33m╰──────────────────────────────────────────────────────────────────────────╯\u001b[0m \u001b[31m│\u001b[0m\n",
      "\u001b[31m│\u001b[0m                                                                              \u001b[31m│\u001b[0m\n",
      "\u001b[31m│\u001b[0m \u001b[2;33m/usr/local/lib/python3.8/dist-packages/pyspark/sql/\u001b[0m\u001b[1;33mreadwriter.py\u001b[0m:\u001b[94m177\u001b[0m in \u001b[92mload\u001b[0m \u001b[31m│\u001b[0m\n",
      "\u001b[31m│\u001b[0m                                                                              \u001b[31m│\u001b[0m\n",
      "\u001b[31m│\u001b[0m   \u001b[2m 174 \u001b[0m\u001b[2m│   │   │   \u001b[0m\u001b[96mself\u001b[0m.schema(schema)                                       \u001b[31m│\u001b[0m\n",
      "\u001b[31m│\u001b[0m   \u001b[2m 175 \u001b[0m\u001b[2m│   │   \u001b[0m\u001b[96mself\u001b[0m.options(**options)                                       \u001b[31m│\u001b[0m\n",
      "\u001b[31m│\u001b[0m   \u001b[2m 176 \u001b[0m\u001b[2m│   │   \u001b[0m\u001b[94mif\u001b[0m \u001b[96misinstance\u001b[0m(path, \u001b[96mstr\u001b[0m):                                     \u001b[31m│\u001b[0m\n",
      "\u001b[31m│\u001b[0m \u001b[31m❱ \u001b[0m 177 \u001b[2m│   │   │   \u001b[0m\u001b[94mreturn\u001b[0m \u001b[96mself\u001b[0m._df(\u001b[96mself\u001b[0m._jreader.load(path))                 \u001b[31m│\u001b[0m\n",
      "\u001b[31m│\u001b[0m   \u001b[2m 178 \u001b[0m\u001b[2m│   │   \u001b[0m\u001b[94melif\u001b[0m path \u001b[95mis\u001b[0m \u001b[95mnot\u001b[0m \u001b[94mNone\u001b[0m:                                        \u001b[31m│\u001b[0m\n",
      "\u001b[31m│\u001b[0m   \u001b[2m 179 \u001b[0m\u001b[2m│   │   │   \u001b[0m\u001b[94mif\u001b[0m \u001b[96mtype\u001b[0m(path) != \u001b[96mlist\u001b[0m:                                    \u001b[31m│\u001b[0m\n",
      "\u001b[31m│\u001b[0m   \u001b[2m 180 \u001b[0m\u001b[2m│   │   │   │   \u001b[0mpath = [path]  \u001b[2m# type: ignore[list-item]\u001b[0m              \u001b[31m│\u001b[0m\n",
      "\u001b[31m│\u001b[0m                                                                              \u001b[31m│\u001b[0m\n",
      "\u001b[31m│\u001b[0m \u001b[33m╭─\u001b[0m\u001b[33m────────────────────────────────\u001b[0m\u001b[33m locals \u001b[0m\u001b[33m────────────────────────────────\u001b[0m\u001b[33m─╮\u001b[0m \u001b[31m│\u001b[0m\n",
      "\u001b[31m│\u001b[0m \u001b[33m│\u001b[0m  format = \u001b[94mNone\u001b[0m                                                           \u001b[33m│\u001b[0m \u001b[31m│\u001b[0m\n",
      "\u001b[31m│\u001b[0m \u001b[33m│\u001b[0m options = \u001b[1m{\u001b[0m\u001b[1m}\u001b[0m                                                             \u001b[33m│\u001b[0m \u001b[31m│\u001b[0m\n",
      "\u001b[31m│\u001b[0m \u001b[33m│\u001b[0m    path = \u001b[33m'gs://tbd-2023z-304098-data/tpc-di/Date.txt'\u001b[0m                   \u001b[33m│\u001b[0m \u001b[31m│\u001b[0m\n",
      "\u001b[31m│\u001b[0m \u001b[33m│\u001b[0m  schema = \u001b[94mNone\u001b[0m                                                           \u001b[33m│\u001b[0m \u001b[31m│\u001b[0m\n",
      "\u001b[31m│\u001b[0m \u001b[33m│\u001b[0m    self = \u001b[1m<\u001b[0m\u001b[1;95mpyspark.sql.readwriter.DataFrameReader\u001b[0m\u001b[39m object at \u001b[0m             \u001b[33m│\u001b[0m \u001b[31m│\u001b[0m\n",
      "\u001b[31m│\u001b[0m \u001b[33m│\u001b[0m           \u001b[94m0x7f55cfdfaa00\u001b[0m\u001b[1m>\u001b[0m                                                \u001b[33m│\u001b[0m \u001b[31m│\u001b[0m\n",
      "\u001b[31m│\u001b[0m \u001b[33m╰──────────────────────────────────────────────────────────────────────────╯\u001b[0m \u001b[31m│\u001b[0m\n",
      "\u001b[31m│\u001b[0m                                                                              \u001b[31m│\u001b[0m\n",
      "\u001b[31m│\u001b[0m \u001b[2;33m/usr/local/lib/python3.8/dist-packages/py4j/\u001b[0m\u001b[1;33mjava_gateway.py\u001b[0m:\u001b[94m1321\u001b[0m in \u001b[92m__call__\u001b[0m \u001b[31m│\u001b[0m\n",
      "\u001b[31m│\u001b[0m                                                                              \u001b[31m│\u001b[0m\n",
      "\u001b[31m│\u001b[0m   \u001b[2m1318 \u001b[0m\u001b[2m│   │   │   \u001b[0mproto.END_COMMAND_PART                                    \u001b[31m│\u001b[0m\n",
      "\u001b[31m│\u001b[0m   \u001b[2m1319 \u001b[0m\u001b[2m│   │   \u001b[0m                                                              \u001b[31m│\u001b[0m\n",
      "\u001b[31m│\u001b[0m   \u001b[2m1320 \u001b[0m\u001b[2m│   │   \u001b[0manswer = \u001b[96mself\u001b[0m.gateway_client.send_command(command)            \u001b[31m│\u001b[0m\n",
      "\u001b[31m│\u001b[0m \u001b[31m❱ \u001b[0m1321 \u001b[2m│   │   \u001b[0mreturn_value = get_return_value(                              \u001b[31m│\u001b[0m\n",
      "\u001b[31m│\u001b[0m   \u001b[2m1322 \u001b[0m\u001b[2m│   │   │   \u001b[0manswer, \u001b[96mself\u001b[0m.gateway_client, \u001b[96mself\u001b[0m.target_id, \u001b[96mself\u001b[0m.name)   \u001b[31m│\u001b[0m\n",
      "\u001b[31m│\u001b[0m   \u001b[2m1323 \u001b[0m\u001b[2m│   │   \u001b[0m                                                              \u001b[31m│\u001b[0m\n",
      "\u001b[31m│\u001b[0m   \u001b[2m1324 \u001b[0m\u001b[2m│   │   \u001b[0m\u001b[94mfor\u001b[0m temp_arg \u001b[95min\u001b[0m temp_args:                                    \u001b[31m│\u001b[0m\n",
      "\u001b[31m│\u001b[0m                                                                              \u001b[31m│\u001b[0m\n",
      "\u001b[31m│\u001b[0m \u001b[33m╭─\u001b[0m\u001b[33m────────────────────────────────\u001b[0m\u001b[33m locals \u001b[0m\u001b[33m────────────────────────────────\u001b[0m\u001b[33m─╮\u001b[0m \u001b[31m│\u001b[0m\n",
      "\u001b[31m│\u001b[0m \u001b[33m│\u001b[0m       answer = \u001b[33m'xro46'\u001b[0m                                                   \u001b[33m│\u001b[0m \u001b[31m│\u001b[0m\n",
      "\u001b[31m│\u001b[0m \u001b[33m│\u001b[0m         args = \u001b[1m(\u001b[0m\u001b[33m'gs://tbd-2023z-304098-data/tpc-di/Date.txt'\u001b[0m,\u001b[1m)\u001b[0m           \u001b[33m│\u001b[0m \u001b[31m│\u001b[0m\n",
      "\u001b[31m│\u001b[0m \u001b[33m│\u001b[0m args_command = \u001b[33m'sgs://tbd-2023z-304098-data/tpc-di/Date.txt\\n'\u001b[0m           \u001b[33m│\u001b[0m \u001b[31m│\u001b[0m\n",
      "\u001b[31m│\u001b[0m \u001b[33m│\u001b[0m      command = \u001b[33m'c\\no45\\nload\\nsgs://tbd-2023z-304098-data/tpc-di/Date.t…\u001b[0m \u001b[33m│\u001b[0m \u001b[31m│\u001b[0m\n",
      "\u001b[31m│\u001b[0m \u001b[33m│\u001b[0m         self = \u001b[1m<\u001b[0m\u001b[1;95mpy4j.java_gateway.JavaMember\u001b[0m\u001b[39m object at \u001b[0m\u001b[94m0x7f55cf52b2b0\u001b[0m\u001b[1m>\u001b[0m   \u001b[33m│\u001b[0m \u001b[31m│\u001b[0m\n",
      "\u001b[31m│\u001b[0m \u001b[33m│\u001b[0m    temp_args = \u001b[1m[\u001b[0m\u001b[1m]\u001b[0m                                                        \u001b[33m│\u001b[0m \u001b[31m│\u001b[0m\n",
      "\u001b[31m│\u001b[0m \u001b[33m╰──────────────────────────────────────────────────────────────────────────╯\u001b[0m \u001b[31m│\u001b[0m\n",
      "\u001b[31m│\u001b[0m                                                                              \u001b[31m│\u001b[0m\n",
      "\u001b[31m│\u001b[0m \u001b[2;33m/usr/local/lib/python3.8/dist-packages/pyspark/sql/\u001b[0m\u001b[1;33mutils.py\u001b[0m:\u001b[94m190\u001b[0m in \u001b[92mdeco\u001b[0m      \u001b[31m│\u001b[0m\n",
      "\u001b[31m│\u001b[0m                                                                              \u001b[31m│\u001b[0m\n",
      "\u001b[31m│\u001b[0m   \u001b[2m187 \u001b[0m\u001b[94mdef\u001b[0m \u001b[92mcapture_sql_exception\u001b[0m(f: Callable[..., Any]) -> Callable[..., Any] \u001b[31m│\u001b[0m\n",
      "\u001b[31m│\u001b[0m   \u001b[2m188 \u001b[0m\u001b[2m│   \u001b[0m\u001b[94mdef\u001b[0m \u001b[92mdeco\u001b[0m(*a: Any, **kw: Any) -> Any:                               \u001b[31m│\u001b[0m\n",
      "\u001b[31m│\u001b[0m   \u001b[2m189 \u001b[0m\u001b[2m│   │   \u001b[0m\u001b[94mtry\u001b[0m:                                                           \u001b[31m│\u001b[0m\n",
      "\u001b[31m│\u001b[0m \u001b[31m❱ \u001b[0m190 \u001b[2m│   │   │   \u001b[0m\u001b[94mreturn\u001b[0m f(*a, **kw)                                         \u001b[31m│\u001b[0m\n",
      "\u001b[31m│\u001b[0m   \u001b[2m191 \u001b[0m\u001b[2m│   │   \u001b[0m\u001b[94mexcept\u001b[0m Py4JJavaError \u001b[94mas\u001b[0m e:                                     \u001b[31m│\u001b[0m\n",
      "\u001b[31m│\u001b[0m   \u001b[2m192 \u001b[0m\u001b[2m│   │   │   \u001b[0mconverted = convert_exception(e.java_exception)            \u001b[31m│\u001b[0m\n",
      "\u001b[31m│\u001b[0m   \u001b[2m193 \u001b[0m\u001b[2m│   │   │   \u001b[0m\u001b[94mif\u001b[0m \u001b[95mnot\u001b[0m \u001b[96misinstance\u001b[0m(converted, UnknownException):            \u001b[31m│\u001b[0m\n",
      "\u001b[31m│\u001b[0m                                                                              \u001b[31m│\u001b[0m\n",
      "\u001b[31m│\u001b[0m \u001b[33m╭─\u001b[0m\u001b[33m────────────────────────────────\u001b[0m\u001b[33m locals \u001b[0m\u001b[33m────────────────────────────────\u001b[0m\u001b[33m─╮\u001b[0m \u001b[31m│\u001b[0m\n",
      "\u001b[31m│\u001b[0m \u001b[33m│\u001b[0m         a = \u001b[1m(\u001b[0m                                                            \u001b[33m│\u001b[0m \u001b[31m│\u001b[0m\n",
      "\u001b[31m│\u001b[0m \u001b[33m│\u001b[0m             \u001b[2m│   \u001b[0m\u001b[33m'xro46'\u001b[0m,                                                 \u001b[33m│\u001b[0m \u001b[31m│\u001b[0m\n",
      "\u001b[31m│\u001b[0m \u001b[33m│\u001b[0m             \u001b[2m│   \u001b[0m\u001b[1m<\u001b[0m\u001b[1;95mpy4j.clientserver.JavaClient\u001b[0m\u001b[39m object at \u001b[0m\u001b[94m0x7f55cfead4c0\u001b[0m\u001b[1m>\u001b[0m, \u001b[33m│\u001b[0m \u001b[31m│\u001b[0m\n",
      "\u001b[31m│\u001b[0m \u001b[33m│\u001b[0m             \u001b[2m│   \u001b[0m\u001b[33m'o45'\u001b[0m,                                                   \u001b[33m│\u001b[0m \u001b[31m│\u001b[0m\n",
      "\u001b[31m│\u001b[0m \u001b[33m│\u001b[0m             \u001b[2m│   \u001b[0m\u001b[33m'load'\u001b[0m                                                   \u001b[33m│\u001b[0m \u001b[31m│\u001b[0m\n",
      "\u001b[31m│\u001b[0m \u001b[33m│\u001b[0m             \u001b[1m)\u001b[0m                                                            \u001b[33m│\u001b[0m \u001b[31m│\u001b[0m\n",
      "\u001b[31m│\u001b[0m \u001b[33m│\u001b[0m converted = \u001b[1;35mUnknownException\u001b[0m\u001b[1m(\u001b[0m\u001b[1m)\u001b[0m                                           \u001b[33m│\u001b[0m \u001b[31m│\u001b[0m\n",
      "\u001b[31m│\u001b[0m \u001b[33m│\u001b[0m         f = \u001b[1m<\u001b[0m\u001b[1;95mfunction\u001b[0m\u001b[39m get_return_value at \u001b[0m\u001b[94m0x7f55d6c7a5e0\u001b[0m\u001b[1m>\u001b[0m                \u001b[33m│\u001b[0m \u001b[31m│\u001b[0m\n",
      "\u001b[31m│\u001b[0m \u001b[33m│\u001b[0m        kw = \u001b[1m{\u001b[0m\u001b[1m}\u001b[0m                                                           \u001b[33m│\u001b[0m \u001b[31m│\u001b[0m\n",
      "\u001b[31m│\u001b[0m \u001b[33m╰──────────────────────────────────────────────────────────────────────────╯\u001b[0m \u001b[31m│\u001b[0m\n",
      "\u001b[31m│\u001b[0m                                                                              \u001b[31m│\u001b[0m\n",
      "\u001b[31m│\u001b[0m \u001b[2;33m/usr/local/lib/python3.8/dist-packages/py4j/\u001b[0m\u001b[1;33mprotocol.py\u001b[0m:\u001b[94m326\u001b[0m in               \u001b[31m│\u001b[0m\n",
      "\u001b[31m│\u001b[0m \u001b[92mget_return_value\u001b[0m                                                             \u001b[31m│\u001b[0m\n",
      "\u001b[31m│\u001b[0m                                                                              \u001b[31m│\u001b[0m\n",
      "\u001b[31m│\u001b[0m   \u001b[2m323 \u001b[0m\u001b[2m│   │   │   \u001b[0m\u001b[96mtype\u001b[0m = answer[\u001b[94m1\u001b[0m]                                           \u001b[31m│\u001b[0m\n",
      "\u001b[31m│\u001b[0m   \u001b[2m324 \u001b[0m\u001b[2m│   │   │   \u001b[0mvalue = OUTPUT_CONVERTER[\u001b[96mtype\u001b[0m](answer[\u001b[94m2\u001b[0m:], gateway_client) \u001b[31m│\u001b[0m\n",
      "\u001b[31m│\u001b[0m   \u001b[2m325 \u001b[0m\u001b[2m│   │   │   \u001b[0m\u001b[94mif\u001b[0m answer[\u001b[94m1\u001b[0m] == REFERENCE_TYPE:                            \u001b[31m│\u001b[0m\n",
      "\u001b[31m│\u001b[0m \u001b[31m❱ \u001b[0m326 \u001b[2m│   │   │   │   \u001b[0m\u001b[94mraise\u001b[0m Py4JJavaError(                                   \u001b[31m│\u001b[0m\n",
      "\u001b[31m│\u001b[0m   \u001b[2m327 \u001b[0m\u001b[2m│   │   │   │   │   \u001b[0m\u001b[33m\"\u001b[0m\u001b[33mAn error occurred while calling \u001b[0m\u001b[33m{0}\u001b[0m\u001b[33m{1}\u001b[0m\u001b[33m{2}\u001b[0m\u001b[33m.\u001b[0m\u001b[33m\\n\u001b[0m\u001b[33m\"\u001b[0m.    \u001b[31m│\u001b[0m\n",
      "\u001b[31m│\u001b[0m   \u001b[2m328 \u001b[0m\u001b[2m│   │   │   │   │   \u001b[0m\u001b[96mformat\u001b[0m(target_id, \u001b[33m\"\u001b[0m\u001b[33m.\u001b[0m\u001b[33m\"\u001b[0m, name), value)               \u001b[31m│\u001b[0m\n",
      "\u001b[31m│\u001b[0m   \u001b[2m329 \u001b[0m\u001b[2m│   │   │   \u001b[0m\u001b[94melse\u001b[0m:                                                      \u001b[31m│\u001b[0m\n",
      "\u001b[31m│\u001b[0m                                                                              \u001b[31m│\u001b[0m\n",
      "\u001b[31m│\u001b[0m \u001b[33m╭─\u001b[0m\u001b[33m────────────────────────────────\u001b[0m\u001b[33m locals \u001b[0m\u001b[33m────────────────────────────────\u001b[0m\u001b[33m─╮\u001b[0m \u001b[31m│\u001b[0m\n",
      "\u001b[31m│\u001b[0m \u001b[33m│\u001b[0m         answer = \u001b[33m'xro46'\u001b[0m                                                 \u001b[33m│\u001b[0m \u001b[31m│\u001b[0m\n",
      "\u001b[31m│\u001b[0m \u001b[33m│\u001b[0m gateway_client = \u001b[1m<\u001b[0m\u001b[1;95mpy4j.clientserver.JavaClient\u001b[0m\u001b[39m object at \u001b[0m\u001b[94m0x7f55cfead4c0\u001b[0m\u001b[1m>\u001b[0m \u001b[33m│\u001b[0m \u001b[31m│\u001b[0m\n",
      "\u001b[31m│\u001b[0m \u001b[33m│\u001b[0m           name = \u001b[33m'load'\u001b[0m                                                  \u001b[33m│\u001b[0m \u001b[31m│\u001b[0m\n",
      "\u001b[31m│\u001b[0m \u001b[33m│\u001b[0m      target_id = \u001b[33m'o45'\u001b[0m                                                   \u001b[33m│\u001b[0m \u001b[31m│\u001b[0m\n",
      "\u001b[31m│\u001b[0m \u001b[33m│\u001b[0m           type = \u001b[33m'r'\u001b[0m                                                     \u001b[33m│\u001b[0m \u001b[31m│\u001b[0m\n",
      "\u001b[31m│\u001b[0m \u001b[33m│\u001b[0m          value = JavaObject \u001b[33mid\u001b[0m=\u001b[35mo46\u001b[0m                                       \u001b[33m│\u001b[0m \u001b[31m│\u001b[0m\n",
      "\u001b[31m│\u001b[0m \u001b[33m╰──────────────────────────────────────────────────────────────────────────╯\u001b[0m \u001b[31m│\u001b[0m\n",
      "\u001b[31m╰──────────────────────────────────────────────────────────────────────────────╯\u001b[0m\n",
      "\u001b[1;91mPy4JJavaError: \u001b[0mAn error occurred while calling o45.load.\n",
      ": java.lang.RuntimeException: java.lang.ClassNotFoundException: Class \n",
      "com.google.cloud.hadoop.fs.gcs.GoogleHadoopFileSystem not found\n",
      "        at \n",
      "\u001b[1;35morg.apache.hadoop.conf.Configuration.getClass\u001b[0m\u001b[1m(\u001b[0mConfiguration.jav\u001b[1;92ma:2688\u001b[0m\u001b[1m)\u001b[0m\n",
      "        at \n",
      "\u001b[1;35morg.apache.hadoop.fs.FileSystem.getFileSystemClass\u001b[0m\u001b[1m(\u001b[0mFileSystem.jav\u001b[1;92ma:3431\u001b[0m\u001b[1m)\u001b[0m\n",
      "        at \n",
      "\u001b[1;35morg.apache.hadoop.fs.FileSystem.createFileSystem\u001b[0m\u001b[1m(\u001b[0mFileSystem.jav\u001b[1;92ma:3466\u001b[0m\u001b[1m)\u001b[0m\n",
      "        at org.apache.hadoop.fs.FileSystem.access$\u001b[1;35m300\u001b[0m\u001b[1m(\u001b[0mFileSystem.jav\u001b[1;92ma:174\u001b[0m\u001b[1m)\u001b[0m\n",
      "        at \n",
      "org.apache.hadoop.fs.FileSystem$\u001b[1;35mCache.getInternal\u001b[0m\u001b[1m(\u001b[0mFileSystem.jav\u001b[1;92ma:3574\u001b[0m\u001b[1m)\u001b[0m\n",
      "        at org.apache.hadoop.fs.FileSystem$\u001b[1;35mCache.get\u001b[0m\u001b[1m(\u001b[0mFileSystem.jav\u001b[1;92ma:3521\u001b[0m\u001b[1m)\u001b[0m\n",
      "        at \u001b[1;35morg.apache.hadoop.fs.FileSystem.get\u001b[0m\u001b[1m(\u001b[0mFileSystem.jav\u001b[1;92ma:540\u001b[0m\u001b[1m)\u001b[0m\n",
      "        at \u001b[1;35morg.apache.hadoop.fs.Path.getFileSystem\u001b[0m\u001b[1m(\u001b[0mPath.jav\u001b[1;92ma:365\u001b[0m\u001b[1m)\u001b[0m\n",
      "        at \n",
      "org.apache.spark.sql.execution.datasources.DataSource$.$anonfun$checkAndGlobPath\n",
      "IfNecessary$\u001b[1;35m1\u001b[0m\u001b[1m(\u001b[0mDataSource.scal\u001b[1;92ma:752\u001b[0m\u001b[1m)\u001b[0m\n",
      "        at \u001b[1;35mscala.collection.immutable.List.map\u001b[0m\u001b[1m(\u001b[0mList.scal\u001b[1;92ma:293\u001b[0m\u001b[1m)\u001b[0m\n",
      "        at \n",
      "org.apache.spark.sql.execution.datasources.DataSource$\u001b[1;35m.checkAndGlobPathIfNecessa\u001b[0m\n",
      "\u001b[1;35mry\u001b[0m\u001b[1m(\u001b[0mDataSource.scal\u001b[1;92ma:750\u001b[0m\u001b[1m)\u001b[0m\n",
      "        at \n",
      "\u001b[1;35morg.apache.spark.sql.execution.datasources.DataSource.checkAndGlobPathIfNecessar\u001b[0m\n",
      "\u001b[1;35my\u001b[0m\u001b[1m(\u001b[0mDataSource.scal\u001b[1;92ma:579\u001b[0m\u001b[1m)\u001b[0m\n",
      "        at \n",
      "\u001b[1;35morg.apache.spark.sql.execution.datasources.DataSource.resolveRelation\u001b[0m\u001b[1m(\u001b[0mDataSource\n",
      ".scal\u001b[1;92ma:408\u001b[0m\u001b[1m)\u001b[0m\n",
      "        at \n",
      "\u001b[1;35morg.apache.spark.sql.DataFrameReader.loadV1Source\u001b[0m\u001b[1m(\u001b[0mDataFrameReader.scal\u001b[1;92ma:228\u001b[0m\u001b[1m)\u001b[0m\n",
      "        at \n",
      "org.apache.spark.sql.DataFrameReader.$anonfun$load$\u001b[1;35m2\u001b[0m\u001b[1m(\u001b[0mDataFrameReader.scal\u001b[1;92ma:210\u001b[0m\u001b[1m)\u001b[0m\n",
      "        at \u001b[1;35mscala.Option.getOrElse\u001b[0m\u001b[1m(\u001b[0mOption.scal\u001b[1;92ma:189\u001b[0m\u001b[1m)\u001b[0m\n",
      "        at \u001b[1;35morg.apache.spark.sql.DataFrameReader.load\u001b[0m\u001b[1m(\u001b[0mDataFrameReader.scal\u001b[1;92ma:210\u001b[0m\u001b[1m)\u001b[0m\n",
      "        at \u001b[1;35morg.apache.spark.sql.DataFrameReader.load\u001b[0m\u001b[1m(\u001b[0mDataFrameReader.scal\u001b[1;92ma:185\u001b[0m\u001b[1m)\u001b[0m\n",
      "        at \u001b[1;35msun.reflect.NativeMethodAccessorImpl.invoke0\u001b[0m\u001b[1m(\u001b[0mNative Method\u001b[1m)\u001b[0m\n",
      "        at \n",
      "\u001b[1;35msun.reflect.NativeMethodAccessorImpl.invoke\u001b[0m\u001b[1m(\u001b[0mNativeMethodAccessorImpl.jav\u001b[1;92ma:62\u001b[0m\u001b[1m)\u001b[0m\n",
      "        at \n",
      "\u001b[1;35msun.reflect.DelegatingMethodAccessorImpl.invoke\u001b[0m\u001b[1m(\u001b[0mDelegatingMethodAccessorImpl.jav\n",
      "\u001b[1;92ma:43\u001b[0m\u001b[1m)\u001b[0m\n",
      "        at \u001b[1;35mjava.lang.reflect.Method.invoke\u001b[0m\u001b[1m(\u001b[0mMethod.jav\u001b[1;92ma:498\u001b[0m\u001b[1m)\u001b[0m\n",
      "        at \u001b[1;35mpy4j.reflection.MethodInvoker.invoke\u001b[0m\u001b[1m(\u001b[0mMethodInvoker.jav\u001b[1;92ma:244\u001b[0m\u001b[1m)\u001b[0m\n",
      "        at \u001b[1;35mpy4j.reflection.ReflectionEngine.invoke\u001b[0m\u001b[1m(\u001b[0mReflectionEngine.jav\u001b[1;92ma:357\u001b[0m\u001b[1m)\u001b[0m\n",
      "        at \u001b[1;35mpy4j.Gateway.invoke\u001b[0m\u001b[1m(\u001b[0mGateway.jav\u001b[1;92ma:282\u001b[0m\u001b[1m)\u001b[0m\n",
      "        at \u001b[1;35mpy4j.commands.AbstractCommand.invokeMethod\u001b[0m\u001b[1m(\u001b[0mAbstractCommand.jav\u001b[1;92ma:132\u001b[0m\u001b[1m)\u001b[0m\n",
      "        at \u001b[1;35mpy4j.commands.CallCommand.execute\u001b[0m\u001b[1m(\u001b[0mCallCommand.jav\u001b[1;92ma:79\u001b[0m\u001b[1m)\u001b[0m\n",
      "        at \n",
      "\u001b[1;35mpy4j.ClientServerConnection.waitForCommands\u001b[0m\u001b[1m(\u001b[0mClientServerConnection.jav\u001b[1;92ma:182\u001b[0m\u001b[1m)\u001b[0m\n",
      "        at \u001b[1;35mpy4j.ClientServerConnection.run\u001b[0m\u001b[1m(\u001b[0mClientServerConnection.jav\u001b[1;92ma:106\u001b[0m\u001b[1m)\u001b[0m\n",
      "        at \u001b[1;35mjava.lang.Thread.run\u001b[0m\u001b[1m(\u001b[0mThread.jav\u001b[1;92ma:750\u001b[0m\u001b[1m)\u001b[0m\n",
      "Caused by: java.lang.ClassNotFoundException: Class \n",
      "com.google.cloud.hadoop.fs.gcs.GoogleHadoopFileSystem not found\n",
      "        at \n",
      "\u001b[1;35morg.apache.hadoop.conf.Configuration.getClassByName\u001b[0m\u001b[1m(\u001b[0mConfiguration.jav\u001b[1;92ma:2592\u001b[0m\u001b[1m)\u001b[0m\n",
      "        at \n",
      "\u001b[1;35morg.apache.hadoop.conf.Configuration.getClass\u001b[0m\u001b[1m(\u001b[0mConfiguration.jav\u001b[1;92ma:2686\u001b[0m\u001b[1m)\u001b[0m\n",
      "        \u001b[33m...\u001b[0m \u001b[1;36m29\u001b[0m more\n",
      "\n"
     ]
    },
    {
     "ename": "CalledProcessError",
     "evalue": "Command 'b'source \"$HOME/.sdkman/bin/sdkman-init.sh\"\\ncd $REPO_ROOT\\npython3.8 tpcdi.py --output-directory $GEN_OUTPUT_DIR --stage $DATA_BUCKET\\n'' returned non-zero exit status 1.",
     "output_type": "error",
     "traceback": [
      "\u001b[0;31m---------------------------------------------------------------------------\u001b[0m",
      "\u001b[0;31mCalledProcessError\u001b[0m                        Traceback (most recent call last)",
      "Cell \u001b[0;32mIn[38], line 1\u001b[0m\n\u001b[0;32m----> 1\u001b[0m \u001b[43mget_ipython\u001b[49m\u001b[43m(\u001b[49m\u001b[43m)\u001b[49m\u001b[38;5;241;43m.\u001b[39;49m\u001b[43mrun_cell_magic\u001b[49m\u001b[43m(\u001b[49m\u001b[38;5;124;43m'\u001b[39;49m\u001b[38;5;124;43mbash\u001b[39;49m\u001b[38;5;124;43m'\u001b[39;49m\u001b[43m,\u001b[49m\u001b[43m \u001b[49m\u001b[38;5;124;43m'\u001b[39;49m\u001b[38;5;124;43m'\u001b[39;49m\u001b[43m,\u001b[49m\u001b[43m \u001b[49m\u001b[38;5;124;43m'\u001b[39;49m\u001b[38;5;124;43msource \u001b[39;49m\u001b[38;5;124;43m\"\u001b[39;49m\u001b[38;5;124;43m$HOME/.sdkman/bin/sdkman-init.sh\u001b[39;49m\u001b[38;5;124;43m\"\u001b[39;49m\u001b[38;5;130;43;01m\\n\u001b[39;49;00m\u001b[38;5;124;43mcd $REPO_ROOT\u001b[39;49m\u001b[38;5;130;43;01m\\n\u001b[39;49;00m\u001b[38;5;124;43mpython3.8 tpcdi.py --output-directory $GEN_OUTPUT_DIR --stage $DATA_BUCKET\u001b[39;49m\u001b[38;5;130;43;01m\\n\u001b[39;49;00m\u001b[38;5;124;43m'\u001b[39;49m\u001b[43m)\u001b[49m\n",
      "File \u001b[0;32m/usr/local/lib/python3.8/dist-packages/IPython/core/interactiveshell.py:2478\u001b[0m, in \u001b[0;36mInteractiveShell.run_cell_magic\u001b[0;34m(self, magic_name, line, cell)\u001b[0m\n\u001b[1;32m   2476\u001b[0m \u001b[38;5;28;01mwith\u001b[39;00m \u001b[38;5;28mself\u001b[39m\u001b[38;5;241m.\u001b[39mbuiltin_trap:\n\u001b[1;32m   2477\u001b[0m     args \u001b[38;5;241m=\u001b[39m (magic_arg_s, cell)\n\u001b[0;32m-> 2478\u001b[0m     result \u001b[38;5;241m=\u001b[39m \u001b[43mfn\u001b[49m\u001b[43m(\u001b[49m\u001b[38;5;241;43m*\u001b[39;49m\u001b[43margs\u001b[49m\u001b[43m,\u001b[49m\u001b[43m \u001b[49m\u001b[38;5;241;43m*\u001b[39;49m\u001b[38;5;241;43m*\u001b[39;49m\u001b[43mkwargs\u001b[49m\u001b[43m)\u001b[49m\n\u001b[1;32m   2480\u001b[0m \u001b[38;5;66;03m# The code below prevents the output from being displayed\u001b[39;00m\n\u001b[1;32m   2481\u001b[0m \u001b[38;5;66;03m# when using magics with decodator @output_can_be_silenced\u001b[39;00m\n\u001b[1;32m   2482\u001b[0m \u001b[38;5;66;03m# when the last Python token in the expression is a ';'.\u001b[39;00m\n\u001b[1;32m   2483\u001b[0m \u001b[38;5;28;01mif\u001b[39;00m \u001b[38;5;28mgetattr\u001b[39m(fn, magic\u001b[38;5;241m.\u001b[39mMAGIC_OUTPUT_CAN_BE_SILENCED, \u001b[38;5;28;01mFalse\u001b[39;00m):\n",
      "File \u001b[0;32m/usr/local/lib/python3.8/dist-packages/IPython/core/magics/script.py:153\u001b[0m, in \u001b[0;36mScriptMagics._make_script_magic.<locals>.named_script_magic\u001b[0;34m(line, cell)\u001b[0m\n\u001b[1;32m    151\u001b[0m \u001b[38;5;28;01melse\u001b[39;00m:\n\u001b[1;32m    152\u001b[0m     line \u001b[38;5;241m=\u001b[39m script\n\u001b[0;32m--> 153\u001b[0m \u001b[38;5;28;01mreturn\u001b[39;00m \u001b[38;5;28;43mself\u001b[39;49m\u001b[38;5;241;43m.\u001b[39;49m\u001b[43mshebang\u001b[49m\u001b[43m(\u001b[49m\u001b[43mline\u001b[49m\u001b[43m,\u001b[49m\u001b[43m \u001b[49m\u001b[43mcell\u001b[49m\u001b[43m)\u001b[49m\n",
      "File \u001b[0;32m/usr/local/lib/python3.8/dist-packages/IPython/core/magics/script.py:305\u001b[0m, in \u001b[0;36mScriptMagics.shebang\u001b[0;34m(self, line, cell)\u001b[0m\n\u001b[1;32m    300\u001b[0m \u001b[38;5;28;01mif\u001b[39;00m args\u001b[38;5;241m.\u001b[39mraise_error \u001b[38;5;129;01mand\u001b[39;00m p\u001b[38;5;241m.\u001b[39mreturncode \u001b[38;5;241m!=\u001b[39m \u001b[38;5;241m0\u001b[39m:\n\u001b[1;32m    301\u001b[0m     \u001b[38;5;66;03m# If we get here and p.returncode is still None, we must have\u001b[39;00m\n\u001b[1;32m    302\u001b[0m     \u001b[38;5;66;03m# killed it but not yet seen its return code. We don't wait for it,\u001b[39;00m\n\u001b[1;32m    303\u001b[0m     \u001b[38;5;66;03m# in case it's stuck in uninterruptible sleep. -9 = SIGKILL\u001b[39;00m\n\u001b[1;32m    304\u001b[0m     rc \u001b[38;5;241m=\u001b[39m p\u001b[38;5;241m.\u001b[39mreturncode \u001b[38;5;129;01mor\u001b[39;00m \u001b[38;5;241m-\u001b[39m\u001b[38;5;241m9\u001b[39m\n\u001b[0;32m--> 305\u001b[0m     \u001b[38;5;28;01mraise\u001b[39;00m CalledProcessError(rc, cell)\n",
      "\u001b[0;31mCalledProcessError\u001b[0m: Command 'b'source \"$HOME/.sdkman/bin/sdkman-init.sh\"\\ncd $REPO_ROOT\\npython3.8 tpcdi.py --output-directory $GEN_OUTPUT_DIR --stage $DATA_BUCKET\\n'' returned non-zero exit status 1."
     ]
    }
   ],
   "source": [
    "%%bash\n",
    "source \"$HOME/.sdkman/bin/sdkman-init.sh\"\n",
    "cd $REPO_ROOT\n",
    "python3.8 tpcdi.py --output-directory $GEN_OUTPUT_DIR --stage $DATA_BUCKET"
   ]
  },
  {
   "cell_type": "markdown",
   "id": "a0740193-5da4-4aac-9349-aa4e76f4e99b",
   "metadata": {},
   "source": [
    "## Run dbt ELT"
   ]
  },
  {
   "cell_type": "code",
   "execution_count": 39,
   "id": "98d0642c-b5c9-4aa8-996f-40f82e3c90e0",
   "metadata": {},
   "outputs": [
    {
     "name": "stderr",
     "output_type": "stream",
     "text": [
      "bash: line 2: dbt: command not found\n"
     ]
    },
    {
     "ename": "CalledProcessError",
     "evalue": "Command 'b'cd $REPO_ROOT\\ndbt run\\n'' returned non-zero exit status 127.",
     "output_type": "error",
     "traceback": [
      "\u001b[0;31m---------------------------------------------------------------------------\u001b[0m",
      "\u001b[0;31mCalledProcessError\u001b[0m                        Traceback (most recent call last)",
      "Cell \u001b[0;32mIn[39], line 1\u001b[0m\n\u001b[0;32m----> 1\u001b[0m \u001b[43mget_ipython\u001b[49m\u001b[43m(\u001b[49m\u001b[43m)\u001b[49m\u001b[38;5;241;43m.\u001b[39;49m\u001b[43mrun_cell_magic\u001b[49m\u001b[43m(\u001b[49m\u001b[38;5;124;43m'\u001b[39;49m\u001b[38;5;124;43mbash\u001b[39;49m\u001b[38;5;124;43m'\u001b[39;49m\u001b[43m,\u001b[49m\u001b[43m \u001b[49m\u001b[38;5;124;43m'\u001b[39;49m\u001b[38;5;124;43m'\u001b[39;49m\u001b[43m,\u001b[49m\u001b[43m \u001b[49m\u001b[38;5;124;43m'\u001b[39;49m\u001b[38;5;124;43mcd $REPO_ROOT\u001b[39;49m\u001b[38;5;130;43;01m\\n\u001b[39;49;00m\u001b[38;5;124;43mdbt run\u001b[39;49m\u001b[38;5;130;43;01m\\n\u001b[39;49;00m\u001b[38;5;124;43m'\u001b[39;49m\u001b[43m)\u001b[49m\n",
      "File \u001b[0;32m/usr/local/lib/python3.8/dist-packages/IPython/core/interactiveshell.py:2478\u001b[0m, in \u001b[0;36mInteractiveShell.run_cell_magic\u001b[0;34m(self, magic_name, line, cell)\u001b[0m\n\u001b[1;32m   2476\u001b[0m \u001b[38;5;28;01mwith\u001b[39;00m \u001b[38;5;28mself\u001b[39m\u001b[38;5;241m.\u001b[39mbuiltin_trap:\n\u001b[1;32m   2477\u001b[0m     args \u001b[38;5;241m=\u001b[39m (magic_arg_s, cell)\n\u001b[0;32m-> 2478\u001b[0m     result \u001b[38;5;241m=\u001b[39m \u001b[43mfn\u001b[49m\u001b[43m(\u001b[49m\u001b[38;5;241;43m*\u001b[39;49m\u001b[43margs\u001b[49m\u001b[43m,\u001b[49m\u001b[43m \u001b[49m\u001b[38;5;241;43m*\u001b[39;49m\u001b[38;5;241;43m*\u001b[39;49m\u001b[43mkwargs\u001b[49m\u001b[43m)\u001b[49m\n\u001b[1;32m   2480\u001b[0m \u001b[38;5;66;03m# The code below prevents the output from being displayed\u001b[39;00m\n\u001b[1;32m   2481\u001b[0m \u001b[38;5;66;03m# when using magics with decodator @output_can_be_silenced\u001b[39;00m\n\u001b[1;32m   2482\u001b[0m \u001b[38;5;66;03m# when the last Python token in the expression is a ';'.\u001b[39;00m\n\u001b[1;32m   2483\u001b[0m \u001b[38;5;28;01mif\u001b[39;00m \u001b[38;5;28mgetattr\u001b[39m(fn, magic\u001b[38;5;241m.\u001b[39mMAGIC_OUTPUT_CAN_BE_SILENCED, \u001b[38;5;28;01mFalse\u001b[39;00m):\n",
      "File \u001b[0;32m/usr/local/lib/python3.8/dist-packages/IPython/core/magics/script.py:153\u001b[0m, in \u001b[0;36mScriptMagics._make_script_magic.<locals>.named_script_magic\u001b[0;34m(line, cell)\u001b[0m\n\u001b[1;32m    151\u001b[0m \u001b[38;5;28;01melse\u001b[39;00m:\n\u001b[1;32m    152\u001b[0m     line \u001b[38;5;241m=\u001b[39m script\n\u001b[0;32m--> 153\u001b[0m \u001b[38;5;28;01mreturn\u001b[39;00m \u001b[38;5;28;43mself\u001b[39;49m\u001b[38;5;241;43m.\u001b[39;49m\u001b[43mshebang\u001b[49m\u001b[43m(\u001b[49m\u001b[43mline\u001b[49m\u001b[43m,\u001b[49m\u001b[43m \u001b[49m\u001b[43mcell\u001b[49m\u001b[43m)\u001b[49m\n",
      "File \u001b[0;32m/usr/local/lib/python3.8/dist-packages/IPython/core/magics/script.py:305\u001b[0m, in \u001b[0;36mScriptMagics.shebang\u001b[0;34m(self, line, cell)\u001b[0m\n\u001b[1;32m    300\u001b[0m \u001b[38;5;28;01mif\u001b[39;00m args\u001b[38;5;241m.\u001b[39mraise_error \u001b[38;5;129;01mand\u001b[39;00m p\u001b[38;5;241m.\u001b[39mreturncode \u001b[38;5;241m!=\u001b[39m \u001b[38;5;241m0\u001b[39m:\n\u001b[1;32m    301\u001b[0m     \u001b[38;5;66;03m# If we get here and p.returncode is still None, we must have\u001b[39;00m\n\u001b[1;32m    302\u001b[0m     \u001b[38;5;66;03m# killed it but not yet seen its return code. We don't wait for it,\u001b[39;00m\n\u001b[1;32m    303\u001b[0m     \u001b[38;5;66;03m# in case it's stuck in uninterruptible sleep. -9 = SIGKILL\u001b[39;00m\n\u001b[1;32m    304\u001b[0m     rc \u001b[38;5;241m=\u001b[39m p\u001b[38;5;241m.\u001b[39mreturncode \u001b[38;5;129;01mor\u001b[39;00m \u001b[38;5;241m-\u001b[39m\u001b[38;5;241m9\u001b[39m\n\u001b[0;32m--> 305\u001b[0m     \u001b[38;5;28;01mraise\u001b[39;00m CalledProcessError(rc, cell)\n",
      "\u001b[0;31mCalledProcessError\u001b[0m: Command 'b'cd $REPO_ROOT\\ndbt run\\n'' returned non-zero exit status 127."
     ]
    }
   ],
   "source": [
    "%%bash\n",
    "cd $REPO_ROOT\n",
    "dbt run"
   ]
  },
  {
   "cell_type": "markdown",
   "id": "eae93304-68eb-46c8-86a3-26feec06a54a",
   "metadata": {},
   "source": [
    "## Run dbt tests"
   ]
  },
  {
   "cell_type": "code",
   "execution_count": null,
   "id": "c6b563f4-0b31-40a3-b353-9e6c9de8c482",
   "metadata": {},
   "outputs": [],
   "source": [
    "%%bash\n",
    "cd $REPO_ROOT\n",
    "dbt test"
   ]
  },
  {
   "cell_type": "code",
   "execution_count": 40,
   "id": "a6ce00fe-ce46-4202-a798-a7f227ff3c1c",
   "metadata": {},
   "outputs": [
    {
     "name": "stderr",
     "output_type": "stream",
     "text": [
      "Setting default log level to \"WARN\".\n",
      "To adjust logging level use sc.setLogLevel(newLevel). For SparkR, use setLogLevel(newLevel).\n",
      "WARNING: An illegal reflective access operation has occurred\n",
      "WARNING: Illegal reflective access by org.apache.hadoop.shaded.org.xbill.DNS.ResolverConfig (file:/usr/local/lib/python3.8/dist-packages/pyspark/jars/hadoop-client-runtime-3.3.2.jar) to method sun.net.dns.ResolverConfiguration.open()\n",
      "WARNING: Please consider reporting this to the maintainers of org.apache.hadoop.shaded.org.xbill.DNS.ResolverConfig\n",
      "WARNING: Use --illegal-access=warn to enable warnings of further illegal reflective access operations\n",
      "WARNING: All illegal access operations will be denied in a future release\n"
     ]
    },
    {
     "name": "stdout",
     "output_type": "stream",
     "text": [
      "24/01/04 13:08:37 WARN NativeCodeLoader: Unable to load native-hadoop library for your platform... using builtin-java classes where applicable\n",
      "24/01/04 13:08:42 WARN DomainSocketFactory: The short-circuit local reads feature cannot be used because libhadoop cannot be loaded.\n",
      "24/01/04 13:08:43 WARN Client: Neither spark.yarn.jars nor spark.yarn.archive is set, falling back to uploading libraries under SPARK_HOME.\n"
     ]
    }
   ],
   "source": [
    "from pyspark.sql import SparkSession\n",
    "\n",
    "spark = SparkSession.builder \\\n",
    "    .appName(\"TBD-TPC-DI-setup\") \\\n",
    "    .master(\"yarn\") \\\n",
    "    .enableHiveSupport() \\\n",
    "    .getOrCreate()"
   ]
  },
  {
   "cell_type": "code",
   "execution_count": 41,
   "id": "8c892605-9496-4526-b574-a19168678934",
   "metadata": {},
   "outputs": [
    {
     "name": "stdout",
     "output_type": "stream",
     "text": [
      "24/01/04 13:09:41 WARN HiveConf: HiveConf of name hive.stats.jdbc.timeout does not exist\n",
      "24/01/04 13:09:41 WARN HiveConf: HiveConf of name hive.stats.retries.wait does not exist\n",
      "24/01/04 13:09:52 WARN ObjectStore: Version information not found in metastore. hive.metastore.schema.verification is not enabled so recording the schema version 2.3.0\n",
      "24/01/04 13:09:52 WARN ObjectStore: setMetaStoreSchemaVersion called but recording version is disabled: version = 2.3.0, comment = Set by MetaStore UNKNOWN@172.17.0.2\n",
      "24/01/04 13:09:52 WARN ObjectStore: Failed to get database default, returning NoSuchObjectException\n",
      "+---------+\n",
      "|namespace|\n",
      "+---------+\n",
      "|  default|\n",
      "+---------+\n",
      "\n"
     ]
    }
   ],
   "source": [
    "spark.sql(\"show databases\").show()"
   ]
  },
  {
   "cell_type": "code",
   "execution_count": 42,
   "id": "b2e94c83-4983-49f5-8597-77e3b9c4661c",
   "metadata": {},
   "outputs": [
    {
     "name": "stdout",
     "output_type": "stream",
     "text": [
      "24/01/04 13:09:56 WARN ObjectStore: Failed to get database global_temp, returning NoSuchObjectException\n",
      "24/01/04 13:09:56 WARN ObjectStore: Failed to get database demp_gold, returning NoSuchObjectException\n"
     ]
    },
    {
     "ename": "AnalysisException",
     "evalue": "Database 'demp_gold' not found",
     "output_type": "error",
     "traceback": [
      "\u001b[0;31m---------------------------------------------------------------------------\u001b[0m",
      "\u001b[0;31mAnalysisException\u001b[0m                         Traceback (most recent call last)",
      "Cell \u001b[0;32mIn[42], line 1\u001b[0m\n\u001b[0;32m----> 1\u001b[0m \u001b[43mspark\u001b[49m\u001b[38;5;241;43m.\u001b[39;49m\u001b[43msql\u001b[49m\u001b[43m(\u001b[49m\u001b[38;5;124;43m\"\u001b[39;49m\u001b[38;5;124;43muse demp_gold\u001b[39;49m\u001b[38;5;124;43m\"\u001b[39;49m\u001b[43m)\u001b[49m\n",
      "File \u001b[0;32m/usr/local/lib/python3.8/dist-packages/pyspark/sql/session.py:1034\u001b[0m, in \u001b[0;36mSparkSession.sql\u001b[0;34m(self, sqlQuery, **kwargs)\u001b[0m\n\u001b[1;32m   1032\u001b[0m     sqlQuery \u001b[38;5;241m=\u001b[39m formatter\u001b[38;5;241m.\u001b[39mformat(sqlQuery, \u001b[38;5;241m*\u001b[39m\u001b[38;5;241m*\u001b[39mkwargs)\n\u001b[1;32m   1033\u001b[0m \u001b[38;5;28;01mtry\u001b[39;00m:\n\u001b[0;32m-> 1034\u001b[0m     \u001b[38;5;28;01mreturn\u001b[39;00m DataFrame(\u001b[38;5;28;43mself\u001b[39;49m\u001b[38;5;241;43m.\u001b[39;49m\u001b[43m_jsparkSession\u001b[49m\u001b[38;5;241;43m.\u001b[39;49m\u001b[43msql\u001b[49m\u001b[43m(\u001b[49m\u001b[43msqlQuery\u001b[49m\u001b[43m)\u001b[49m, \u001b[38;5;28mself\u001b[39m)\n\u001b[1;32m   1035\u001b[0m \u001b[38;5;28;01mfinally\u001b[39;00m:\n\u001b[1;32m   1036\u001b[0m     \u001b[38;5;28;01mif\u001b[39;00m \u001b[38;5;28mlen\u001b[39m(kwargs) \u001b[38;5;241m>\u001b[39m \u001b[38;5;241m0\u001b[39m:\n",
      "File \u001b[0;32m/usr/local/lib/python3.8/dist-packages/py4j/java_gateway.py:1321\u001b[0m, in \u001b[0;36mJavaMember.__call__\u001b[0;34m(self, *args)\u001b[0m\n\u001b[1;32m   1315\u001b[0m command \u001b[38;5;241m=\u001b[39m proto\u001b[38;5;241m.\u001b[39mCALL_COMMAND_NAME \u001b[38;5;241m+\u001b[39m\\\n\u001b[1;32m   1316\u001b[0m     \u001b[38;5;28mself\u001b[39m\u001b[38;5;241m.\u001b[39mcommand_header \u001b[38;5;241m+\u001b[39m\\\n\u001b[1;32m   1317\u001b[0m     args_command \u001b[38;5;241m+\u001b[39m\\\n\u001b[1;32m   1318\u001b[0m     proto\u001b[38;5;241m.\u001b[39mEND_COMMAND_PART\n\u001b[1;32m   1320\u001b[0m answer \u001b[38;5;241m=\u001b[39m \u001b[38;5;28mself\u001b[39m\u001b[38;5;241m.\u001b[39mgateway_client\u001b[38;5;241m.\u001b[39msend_command(command)\n\u001b[0;32m-> 1321\u001b[0m return_value \u001b[38;5;241m=\u001b[39m \u001b[43mget_return_value\u001b[49m\u001b[43m(\u001b[49m\n\u001b[1;32m   1322\u001b[0m \u001b[43m    \u001b[49m\u001b[43manswer\u001b[49m\u001b[43m,\u001b[49m\u001b[43m \u001b[49m\u001b[38;5;28;43mself\u001b[39;49m\u001b[38;5;241;43m.\u001b[39;49m\u001b[43mgateway_client\u001b[49m\u001b[43m,\u001b[49m\u001b[43m \u001b[49m\u001b[38;5;28;43mself\u001b[39;49m\u001b[38;5;241;43m.\u001b[39;49m\u001b[43mtarget_id\u001b[49m\u001b[43m,\u001b[49m\u001b[43m \u001b[49m\u001b[38;5;28;43mself\u001b[39;49m\u001b[38;5;241;43m.\u001b[39;49m\u001b[43mname\u001b[49m\u001b[43m)\u001b[49m\n\u001b[1;32m   1324\u001b[0m \u001b[38;5;28;01mfor\u001b[39;00m temp_arg \u001b[38;5;129;01min\u001b[39;00m temp_args:\n\u001b[1;32m   1325\u001b[0m     temp_arg\u001b[38;5;241m.\u001b[39m_detach()\n",
      "File \u001b[0;32m/usr/local/lib/python3.8/dist-packages/pyspark/sql/utils.py:196\u001b[0m, in \u001b[0;36mcapture_sql_exception.<locals>.deco\u001b[0;34m(*a, **kw)\u001b[0m\n\u001b[1;32m    192\u001b[0m converted \u001b[38;5;241m=\u001b[39m convert_exception(e\u001b[38;5;241m.\u001b[39mjava_exception)\n\u001b[1;32m    193\u001b[0m \u001b[38;5;28;01mif\u001b[39;00m \u001b[38;5;129;01mnot\u001b[39;00m \u001b[38;5;28misinstance\u001b[39m(converted, UnknownException):\n\u001b[1;32m    194\u001b[0m     \u001b[38;5;66;03m# Hide where the exception came from that shows a non-Pythonic\u001b[39;00m\n\u001b[1;32m    195\u001b[0m     \u001b[38;5;66;03m# JVM exception message.\u001b[39;00m\n\u001b[0;32m--> 196\u001b[0m     \u001b[38;5;28;01mraise\u001b[39;00m converted \u001b[38;5;28;01mfrom\u001b[39;00m \u001b[38;5;28;01mNone\u001b[39;00m\n\u001b[1;32m    197\u001b[0m \u001b[38;5;28;01melse\u001b[39;00m:\n\u001b[1;32m    198\u001b[0m     \u001b[38;5;28;01mraise\u001b[39;00m\n",
      "\u001b[0;31mAnalysisException\u001b[0m: Database 'demp_gold' not found"
     ]
    }
   ],
   "source": [
    "spark.sql(\"use demp_gold\")"
   ]
  },
  {
   "cell_type": "code",
   "execution_count": 43,
   "id": "44296edd-82e6-4600-b730-d2cc4992a81d",
   "metadata": {},
   "outputs": [
    {
     "name": "stdout",
     "output_type": "stream",
     "text": [
      "+---------+---------+-----------+\n",
      "|namespace|tableName|isTemporary|\n",
      "+---------+---------+-----------+\n",
      "+---------+---------+-----------+\n",
      "\n"
     ]
    }
   ],
   "source": [
    "spark.sql(\"show tables\").show()"
   ]
  },
  {
   "cell_type": "code",
   "execution_count": 44,
   "id": "7e34fa44-084c-4445-ad41-17b4762a0446",
   "metadata": {},
   "outputs": [],
   "source": [
    "spark.stop()"
   ]
  },
  {
   "cell_type": "code",
   "execution_count": null,
   "id": "c190b0c0-b4e2-4aed-85aa-1b78b77d1c05",
   "metadata": {},
   "outputs": [],
   "source": []
  }
 ],
 "metadata": {
  "kernelspec": {
   "display_name": "pyspark",
   "language": "python",
   "name": "pyspark"
  },
  "language_info": {
   "codemirror_mode": {
    "name": "ipython",
    "version": 3
   },
   "file_extension": ".py",
   "mimetype": "text/x-python",
   "name": "python",
   "nbconvert_exporter": "python",
   "pygments_lexer": "ipython3",
   "version": "3.8.10"
  }
 },
 "nbformat": 4,
 "nbformat_minor": 5
}
